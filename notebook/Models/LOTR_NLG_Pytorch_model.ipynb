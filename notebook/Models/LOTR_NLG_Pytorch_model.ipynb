{
  "nbformat": 4,
  "nbformat_minor": 0,
  "metadata": {
    "colab": {
      "name": "LOTR_NLG_Pytorch_model.ipynb",
      "provenance": []
    },
    "kernelspec": {
      "name": "python3",
      "display_name": "Python 3"
    },
    "accelerator": "GPU"
  },
  "cells": [
    {
      "cell_type": "code",
      "metadata": {
        "id": "Wr8p99u1oNft"
      },
      "source": [
        "# Lord Of The Rings Model"
      ],
      "execution_count": null,
      "outputs": []
    },
    {
      "cell_type": "code",
      "metadata": {
        "id": "PFi6EMBWpBtp"
      },
      "source": [
        "# install java\n",
        "!apt-get install openjdk-8-jdk-headless -qq > /dev/null\n",
        "\n",
        "# install spark (change the version number if needed)\n",
        "!wget -q https://archive.apache.org/dist/spark/spark-3.0.0/spark-3.0.0-bin-hadoop3.2.tgz\n",
        "\n",
        "# unzip the spark file to the current folder\n",
        "!tar xf spark-3.0.0-bin-hadoop3.2.tgz\n",
        "\n",
        "# set your spark folder to your system path environment. \n",
        "import os\n",
        "os.environ[\"JAVA_HOME\"] = \"/usr/lib/jvm/java-8-openjdk-amd64\"\n",
        "os.environ[\"SPARK_HOME\"] = \"/content/spark-3.0.0-bin-hadoop3.2\"\n",
        "\n",
        "\n",
        "# install findspark using pip\n",
        "!pip install -q findspark"
      ],
      "execution_count": 1,
      "outputs": []
    },
    {
      "cell_type": "code",
      "metadata": {
        "id": "joENwtf_pEzI"
      },
      "source": [
        "import pickle\n",
        "import re\n",
        "import numpy as np\n",
        "import torch.nn as nn\n",
        "import torch\n",
        "import torch.nn.functional as F\n",
        "import random"
      ],
      "execution_count": 2,
      "outputs": []
    },
    {
      "cell_type": "code",
      "metadata": {
        "id": "ChYj_KYypHrC",
        "colab": {
          "base_uri": "https://localhost:8080/"
        },
        "outputId": "f1908e63-6db9-4131-b374-8b9663ab2026"
      },
      "source": [
        "# read pickle file\n",
        "pickle_in = open(\"LOTR_list.pkl\",\"rb\")\n",
        "movie_plots = pickle.load(pickle_in)\n",
        "\n",
        "# count of movie plot summaries\n",
        "len(movie_plots)"
      ],
      "execution_count": 4,
      "outputs": [
        {
          "output_type": "execute_result",
          "data": {
            "text/plain": [
              "1"
            ]
          },
          "metadata": {
            "tags": []
          },
          "execution_count": 4
        }
      ]
    },
    {
      "cell_type": "code",
      "metadata": {
        "id": "t4fyxGDMpKXB",
        "colab": {
          "base_uri": "https://localhost:8080/",
          "height": 123
        },
        "outputId": "63e2a5c4-21b8-4851-82a3-bb8f5741545c"
      },
      "source": [
        "movie_plots[0]"
      ],
      "execution_count": 5,
      "outputs": [
        {
          "output_type": "execute_result",
          "data": {
            "application/vnd.google.colaboratory.intrinsic+json": {
              "type": "string"
            },
            "text/plain": [
              "'Deagol Deagol Deagol Give us that Deagol my love Why  Because its my birthday and I wants it  Arrghh They cursed us Murderer Murderer they called us They cursed us and drove us away  Pull it in Go on go on go on pull it in  Oh Smeagol Ive got one Ive got a fish Smeagol Smeagol  My precious  Gandalf  Oooohhh Frodo Aaaahh and cool so nice for feet and we only wish to catch a fish so juicy sweet  Gimli My precious Wake up Wake up Wake up sleepies We must go yes we must go at once  Havent you had any sleep Mr Frodo  And we forgot the taste of bread the sound of trees and the softness of the wind We even forgot our own name  Gollum Gollum Gollum and we wept precious We wept to be so alone  Not before Mr Frodos had something to eat  No time to lose silly Come on Must go No time And Ive gone and had too much It must be getting late  No it isnt It isnt midday yet The days are growing darker  Here  What about you  Oh no Im not hungry leastways not for lembas bread  Sam Aragorn Now come the days of the King May they be blessed   This day does not belong to one man but to all Let us together rebuild this world that we may share in the days of peace  Et Erello Endorenna utlien Sinome maruvan ar Hildinyar tenn Ambarmetta Hannon le   My friends you bow to noone   And thus it was a Fourth Age of Middle Earth began And the Fellowship of the Ring though eternally bound by friendship and love was ended Thirteen months to the day since Gandalf sent us on our long journey we find ourselves looking upon a familiar sight  Alright We were home  Hey watch the pumpkin  The journey home  Oh alright but we dont have that much left We have to be careful or we are going to run out You go ahead and eat that Mr Frodo Ive rationed it there should be enough  Come Hobbitses very close now Very close to Mordor No safe places here Hurry  Its good Definitely from the Shire Longbottom leaf eh  uhh huh I feel like Im back at the Green Dragon  Mmmm Green Dragon  For what  Goodnight lads  Welcome my lords to Isengard  You young rascals A merry hunt youve led us on and now we find you feasting and and smoking Hmm  Only youve never done a hard days work  Ahaha  How do you pick up the threads of an old life How do you go on when in your heart you begin to understand there is no going back There are some things that time cannot mend Some hurts that go too deep that have taken hold  Mr Frodo What is it  Its been four years to the day since Weathertop Sam Its never really healed  A mug of ale in my hand Putting my feet up on a settle after a hard days work   There and Back Again a Hobbits tale by Bilbo Baggins and the Lord of the Rings by Frodo Baggins You finished it  Not quite Theres room for a little more   Bilbo once told me his part in this tale would end That each of us must come and go in the telling Bilbos story was now over There would be no more journeys for him save one  To the harbour Bilbo The elves have accorded you a special honour A place on the last ship to leave Middle Earth  Salted pork Hobbits Were under orders from Treebeard whos taken over management of Isengard   Tell me again lad where are we going   Frodo any chance of seeing that old Ring of mine again The one I gave you  Hoooom young master Gandalf Im glad youve come Wood and water stock and stone I can master but there is a Wizard to manage here locked in his tower   We are sitting on a field of victory enjoying a few well earned comforts The salted pork is particularly good   Show yourself  Well then lets just have his head and be done with it  Be careful Even in defeat Saruman is dangerous  You have fought many wars and slain many men Theoden King and made peace afterwards Can we not take counsel together as we once did my old friend Can we not have peace you and I  We shall have peace We shall have peace when you answer for the burning of the Westfold and the children that lie dead there We shall have peace when the lives of the soldiers whose bodies were hewn even as they lay dead against the gates of the Hornburg are avenged When you hang from a gibbet for the sport of your own crows we shall have peace Gibbets and crows Dotard What do you want Gandalf Grahame Let me guess the key of Orthanc Or perhaps the keys of Barad Dr itself Along with the crowns of the seven Kings and the rods of the Five Wizards No we need him alive We need him to talk  Im sorry uncle Im afraid I lost it  Your treachery has already cost many lives Thousands more are now at risk But you could save them Saruman You were deep in the enemys counsel  I Aear cn ven na mar  I think Im quite ready for another adventure   Farewell my brave Hobbits My work is now finished Here at last on the shores of the sea comes the end of our Fellowship I will not say do not weep for not all tears are an evil It is time Frodo  What does he mean  Oh Well here is a sight I have never seen before  The power of the three rings is ended The time has come for the dominion of men   Oh pity He sighs I would have like to have held it one last time   We set out to save the Shire Sam and it has been saved but not for me   You dont mean that You cant leave  So you have come here for information I have some for you Something festers in the heart of Middle Earth Something that you have failed to see But the great eye has seen it Even now he presses his advantage His attack will come soon You are all going to die But you know this dont you Gandalf You cannot think that this Ranger will ever sit upon the throne of Gondor This exile crept from the shadows will never be crowned King Gandalf does not hesitate to sacrifice those who are closest to him those he professes to love Tell me what words of comfort did you give the Halfling before you sent him to his doom The path that you have set him on can only lead to death  Save your pity and your mercy I have no use for it Saruman your staff is broken Grima You need not follow him You were not always as you are now You were once a man of Rohan Come down  Ive heard enough Shoot him Stick an arrow in his gob The last pages are for you Sam  Free He will never be free No  My dear Sam you cannot always be torn in two You will have to be one and whole for many years You have so much to enjoy and to be and to do Your part in the story will go on   Well Im back  I didnt think it would end this way   End No the journey doesnt end here Death is just another path one that we all must take The grey rain curtain of this world rolls back and all turns to silvered glass And then you see it  A man of Rohan What is the house of Rohan but a thatched barn where brigands drink in the reek and their brats roll on the floor with the dogs The victory at Helms Deep does not belong to you Theoden Horse Master You are a lesser son of greater sires Grima Come down Be free of him No Come down Saruman and your life will be spared What Gandalf See what  Rally to me To meeee Feast on his flesh  I will kill you if you touch him  The City has fallen silent There is no warmth left in the sun  It grows so cold  Its just the damp of the first spring rain  No No it isnt   Well thats not so bad   White shores and beyond a far green country under a swift sunrise  I do not believe this darkness will endure   Look The Orcs theyre moving off  Get down cur Ah Saruman You were deep in the enemys counsel Tell us what you know You withdraw your guard and I will tell you where your doom will be decided I will not be held prisoner here Send word to all our allies and to every corner of Middle Earth that still stands free The enemy moves against us We need to know where he will strike  The filth of Saruman is washing away Trees will come back to live here Young trees Wild trees  Pippin Bless my bark Peregrin Took Ill take that my lad Quickly now Do not come between the Nazgl and his prey   Late as usual pirate scum Theres knifework here needs doing Come on you sea rats get off your ships  You see Mr Frodo some luck at last  Move it you slugs  Come on Faster  Come along you scum Ill whip you down to the bone Come on What have I told you Get up Come on you slugs You two are going straight to the front line Move it come on Fall in Move it Move it Move it   To the gate you slugs now move it Dont you know were at war  Company halt Inspection You fool No man can kill me Die now  Theres plenty for the both of us may be best Dwarf win  I am no man Mr Frodo Sam Help me Stand up Mr Frodo Stand up  Get off of me Nobody pushes me you filthy maggot Get off of me  Retreat The city is breached Fall back to the second level Get the women and children out Get them out Retreat   Come on come on  Move into the city Kill all in your path  Break it up Break it up Oy Ill have your guts if you dont shut this rabble down Its so heavy  Oh no What do I do What do I do  Hit me Hit me Sam Start fighting Go Sam Now Take them down Fight Fight to the last man Fight for your lives   Gandalf Gandalf Denethor has lost his mind Hes burning Faramir alive  Move along scum Get back in the line you maggots Get back in the line you slugs Up Quickly  Go back to the abyss Fall into the nothingness that awaits you and your master   Do you not know death when you see it old man This is my hour  I cant I cant I cant manage the Ring Sam Its its such a weight to carry Its such a weight   Were going that way straight as we can Theres no point carrying anything were not sure to need   Mr Frodo look There is light and beauty up there that no shadow can touch   Take mine Theres a few drops left  There will be none left for the return journey  I dont think there will be a return journey Mr Frodo   Frodo get down Hide   AAAAhhh  You have failed The world of men will fall  Gandalf Where are they  Frodo Is there any in this rout with authority to treat with me   We do not come to treat with Sauron faithless and accursed Tell your master this The armies of Mordor must disband He is to depart these lands never to return   Let the Lord of the Black Land come forth Let justice be done upon him  Courage Merry Courage for our friends   Form ranks you maggots Form ranks Pikes in front archers behind   Eomer take your Eored down the left flank  Flank ready  Ride now ride now Ride Ride for ruin and the worlds ending DEATH  DEATH DEATH DEATH DEATH DEATH  Whatever happens stay with me Ill look after you   Gamling follow the Kings banner down the centre Grimbold Take your company right after you pass the wall Forth and fear no darkness Arise Arise riders of Theoden Spears shall be shaken shields shall be splintered a sword day a red day ere the sun rises  My master Sauron the Great bids thee welcome  Silence No Silence  The Halfling was dear to thee I see Know that he suffered greatly at the hands of his host Who wouldve thought one so small could endure so much pain And he did Gandalf he did  You may go no further  You will not enter Gondor Frodo Frodo Legolas fire a warning shot past the bosons ear  Mind your aim  Oh Thats it right we warned you Prepare to be boarded  Aha Old Greybeard I have a token I was bidden to show thee  Who are you to deny us passage  Boarded by you and whose army  Forth Eorlingas DEATH CHAAAAARGE Set a fire in our flesh Stay this madness Fire at will  You may triumph in the field of battle for a day but against the power that has risen in the east there is no victory  FIRE  NOOOOOO you will not take my son from me  Aaaaaahhhh  So passes Denethor son of Ecthelion  DEEEEAAATH NO Aaahhh Faramir And who is this Isildurs heir It takes more to make a King than a broken Elvish blade  I guess that concludes negotiations  In there  I do not believe it I will not  This army  What is this place  I cant go back  Whats that smell  Orcses filth Orcses come in here sometimes  Now that Im here I dont think I want to  Its the only way Go in or go back  Hurry This way  Smeagol  Over here  Master must go inside the tunnel   Youll see Oh yes you will see   Reform the line Reform the line   Sound the charge Take them headon Chaaarge  Ah aah Its sticky what is it   Take the reins pull him left LEFT   Make safe the city   Bring it down Bring it down Bring it down   Merry  Smeagol shouts SMEAGOL SMEAGOL Sam  Ow  Cut him down   Aim for the heads  Aiya Erendil Elenion Ancalim Naughty little fly Why does he cry Caught in a web Soon youll be eaten   Drive them to the river  It wasnt us It wasnt us Smeagol wouldnt hurt master We promised You must believe us It was the precious The precious made us do it  I have to destroy it Smeagol I have to destroy it for both our sakes  NO Aaaaaaaaa  And you Frodo Baggins I give you the light of Erendil our most beloved star May it be a light for you in dark places when all other lights go out  Im so sorry Sam Im so sorry  NO One that is cursed Long ago the men of the mountains swore an oath to the last King of Gondor to come to his aid to fight But when the time came when Gondors need was dire they fled vanishing into the darkness of the mountain And so Isildur cursed them never to rest until they had fulfilled their pledge Who shall call them from the grey twilight the forgotten people The heir of him to whom the oath they swore From the North shall he come need shall drive him He shall pass the door to the Paths of the Dead  Got away did it precious Not this time Not this time  What kind of army would linger in such a place  The very warmth of my blood seems stolen away  The way is shut It was made by those who are dead and the dead keep it The way is shut  Brego I do not fear death The scouts report Minas Tirith is surrounded The lower levels in flames Everywhere legions of the enemy advance  This task was appointed to you Frodo of the Shire If you do not find a way no one will  Time is against us Make ready Take heart Merry It will soon be over  My lady You are fair and brave and have much to live for and many who love you I know it is too late to turn aside I know there is not much point now in hoping If I were a knight of Rohan capable of great deedsbut Im not Im a Hobbit And I know I cant save Middle Earth I just want to help my friends Frodo Sam Pippin More than anything I wish I could see them again  Make haste We ride through the night  Back to the gate Hurry To battle Well this is a thing unheard of An elf will go underground where a dwarf dare not Oh Oh Id never hear the end of it  Prepare to move out All my friends have gone to battle I would be ashamed to be left behind  It is a threeday gallop to Minas Tirith and none of my riders can bear you as a burdon  I want to fight I will say no more  Ride with me My lady To battle We must ride light and swift It is a long road ahead and man and beast must reach the end with the strength to fight  Ride Ride now to Gondor  What is it What do you see  Little Hobbits do not belong in war Master Meriadoc  Where  I see shapes of men and of horses  Do not look down  Pale banners like shreds of cloud Spears rise like winter thickets through a shroud of mist The dead are following They have been summoned   The dead Summoned I knew that Huh Huh Very good Very good Legolas  Who enters my domain  One who will have your allegiance  You will suffer me The dead do not suffer the living to pass  The way is shut It was made by those who are dead And the dead keep it The Ghostly army closes around them The way is shut Now you must die Form up move out Form up move out  My lord Hail to you sire I bring 500 men from the Westfold my lord  We have 300 more from Fenmarch Theoden King  That blade was broken It has been remade Fight for us and regain your honour What say you What say you  None but the King of Gondor may command me I am Isildurs heir Fight for me and I will hold your oaths fulfilled What say you  Make way for the King Make way the King is here  I summon you to fulfil your oath Ach You waste your time Aragorn They had no honour in life and they have none now in death  Legolas Run We fight Open the gate quick  Quick Hurry Faramir Say not that he has fallen  They were outnumbered None survived  Stand you traitors Out Where are the riders from Snowbourn  None have come my lord  Six thousand spears less than half of what I had hoped for  You have my word Fight and I will release you from this living death What say you  Fear The city is rank with it Ha ha ha ha Let us ease their pain Release the prisoners The horses are restless and the men are quiet  They grow nervous in the shadow of the mountain  That road there where does that lead   It is the road to the Dimholt the door under the mountain  Catapults ha ha ha  More will come My sons are spent My line has ended  Six thousand will not be enough to break the lines of Mordor  Every hour lost hastens Gondors defeat We have until dawn then we must ride  My line has ended My lord Rohan has deserted us Theodens betrayed me ABANDON YOUR POSTS FLEE FLEE FOR YOUR LIVES  Prepare for battle Hurry men To the wall Defend the wall Over here Return to your posts  Send these foul beasts into the Abyss  The house of Stewards has failed  We need more rubble He needs medicine my lord None who venture there ever return That mountain is evil  Aragorn Lets find some food  There A true esquire of Rohan  Im ready Sorry It isnt all that dangerous Its not even sharp  Hes alive Stay where you are To the smithy go  You should not encourage him  You should not doubt him  Sir King Theoden awaits you my lord  Watch out Down to the lower levels quick I do not doubt his heart only the reach of his arm  Why should Merry be left behind He has as much cause to go to war as you Why can he not fight for those he loves  Double up men Hold them back do not give in to fear Stand to your posts Fight  Not at the towers Aim for the trolls kill the trolls  You know as little of war as that Hobbit When the fear takes him and the blood and the screams and the horror of battle take hold Do you think he would stand and fight He would flee And he would be right to do so War is the province of men Eowyn  Bring them down They called us out to fight  Fight them back Peregrin Took Go back to the Citadel  This is no place for a Hobbit What are you doing you useless scum  My lord Elrond Guard of the Citadel indeed Now back up the hill quickly Quick  The door wont give Its too strong  I come on behalf of one whom I love Arwen is dying She will not long survive the evil that now spreads from Mordor The light of the evenstar is failing As Saurons power grows her strength wanes Arwens life is now tied to the fate of the Ring The Shadow is upon us Aragorn The end has come  There are none  There are those that dwell in the mountain  Murderers traitors You would call upon them to fight They believe in nothing They answer to no one  I take my leave  Sauron will not have forgotten the sword of Elendil   You ride to war but not to victory Saurons armies ride on Minas Tirith this you know But in secret he sends another force which will attack from the river A fleet of Corsair ships sails from the South They will be in the city in two days Youre outnumbered Aragorn You need more men  It will not be our end but his  They will answer to the King of Gondor Andril the Flame of the West forged from the shards of Narsil  The blade that was broken shall return to Minas Tirith  The man who can wield the power of this sword can summon to him an army more deadly than any that walks this earth Put aside the Ranger Become who you were born to be nen iEstel Edain  chebin Estel anim  I didnt think they would find any livery that would fit me  It once belonged to a young boy of the city A very foolish one who wasted many hours slaying dragons instead of attending his studies  This was yours  Yes it was mine My father had it made for me  Get back there and smash it down But nothing can breach it  It was well done A generous deed should not be checked with cold counsel You are to join the tower guard  What were you thinking Peregrin Took What service can a Hobbit offer such a great lord of men  Grond Grond Grond Grond Grond  Grond Grond Grond Grond  Eowyn Why are you doing this The war lies to the East You cannot leave on the eve of battle You cannot abandon the men  Grond will breach it Bring out the wolfs head  We need you here  I have wished you joy since first I saw you  Just where do you think youre off to  Not this time This time you must stay Gimli  Hmmmm Have you learnt nothing of the stubbornness of dwarves  You might as well accept it Were going with you laddie Aragorn smiles  Do you not know  It is but a shadow and a thought that you love I cannot give you what you seek  He leaves because there is no hope  He leaves because he must  Well Im taller than you were then Though Im not likely to grow anymore except sideways  Why have you come  Whats happening where is he going I dont understand Lord Aragorn Why does he leave on the eve of battle  It never fitted me either Boromir was always the soldier They were so alike he and my father Proud stubborn even but strong  I think you have strength of a different kind And one day your father will see it  And I shall not forget it nor fail to reward that which is given Fealty with love Valour with honour Disloyalty with vengeance I do not think we should so lightly abandon the outer defences Defences that your brother long held intact  What would you have me do  I will not yield the River and Pellenor unfought Osgiliath must be retaken  My lord Osgiliath is over run  Much must be risked in war Is there a Captain here who still has the courage to do his lords will  You wish now that our places had been exchanged That I had died and Boromir had lived  Here do I swear fealty and service to Gondor in peace or war in living or dying from from this hour henceforth until my lord release me or death take me   No we cannot But we will meet them in battle nonetheless  I have left instruction The people are to follow your rule in my stead Take up my seat in the Golden Hall Long may you defend Edoras if the battle goes ill  What other duty would you have me do my lord  Duty no I would have you smile again not grieve for those whose time has come You shall live to see these days renewed and no more despair  Yes I wish that  Since you are robbed of Boromir I will do what I can in his stead If I should return think better of me father  To few have come We cannot defeat the armies of Mordor  Sneaking Sneaking Fat Hobbit is always so polite Smeagol shows them secret ways that nobody else could find and they say sneak Sneak Very nice friend oh yes my precious very nice very nice  Alright Alright You just startled me is all What were you doing  Sneaking  Fine have it your own way Im sorry to wake you Mr Frodo but we have to be moving on  Its dark still  Its always dark here Its gone The elven bread  Ech What Thats all we have left We cant hold them The city is lost  What are you up to Sneaking off are we  That will depend on the manner of your return  He took it He must have  Smeagol No no not poor Smeagol Smeagol hates nasty elf bread  Youre a lying rat What did you do with it   He doesnt eat it He cant have taken it   Look whats this Crumbs on his jacketses He took it He took it Ive seen him hes always stuffing his face when masters not looking  Thats a filthy lie You stinking two faced sneak  Tell the men to break cover We ride for Minas Tirith  Nazgl Take cover Nazgul Fall back Fall back to Minas Tirith Stop it Ill kill him Call me  Sam no  No No youre not all right youre exhausted Its that Gollum Its this place Its that thing around your neck I could help a bit I could carry it for a while carry it for a while I could carry it I could carry it Share the load share the load share the load  Get away Fall back Retreat Retreat Run for your lives  The age of men is over The time of the Orc has come  Im all right   Oh my Im sorry I didnt mean it to go so far I was just so so angry Here just lets just rest a bit  Keep going Its the Nazgul Take cover my lord Its coming  Sam Its Mithrandir The White Rider Foreseen and done nothing Faramir This is not the first Halfling to have crossed your path  Pull Mithrandir They broke through our defences Theyve taken the bridge and the West bank Battalions of Orcs are crossing the river  It is as the Lord Denethor predicted Long has he foreseen this doom Youve seen Frodo and Sam  No  Where When  I dont want to keep it I just want to help  See See He wants it for himself  Shut up you Go away Get out of here  No Sam Its you Im sorry Sam  But hes a liar Hes poisoned you against me  You cant help me any more  You dont mean that  Go home  Can you sing Master Hobbit   well yes At least well enough for my own people But we have no songs for great halls and evil times  Saurons wrath will be terrible his retribution swift  The battle for Helms Deep is over The battle for Middleearth is about to begin  looking back out to Mordor All our hopes now lie with two little Hobbits  In Ithilien Not two days ago Gandalf theyre taking the road to the Morgul vale  Where does my allegiance lie if not here This is the city of the men of Nmenor I will gladly give my life to defend her beauty her memory her wisdom  What does that mean Whats wrong He looks at Gandalf   Faramir Faramir Your fathers will has turned to madness Do not throw away your life so rashly  Your father loves you Faramir He will remember it before the end  And then the pass of Cirith Ungol  What you judged to be right You sent the Ring of power into Mordor in the hands of a witless Halfling It should have been brought back to the citadel to be kept safe Hidden Dark and deep in the vaults not to be used unless at the uttermost end of need  I would not use the Ring Not if Minas Tirith were falling in ruin and I alone could save her  Ever you desire to appear lordly and gracious as a King of old Boromir would have remembered his fathers need He would have brought me a kingly gift Boromir would not have brought the Ring He would have stretched out his hand to this thing and taking it he would have fallen  This is how you would serve your city You would risk its utter ruin  I did what I judged to be right  And why should your songs be unfit for my halls Come sing me a song  Home is behind The world ahead And there are many paths to tread Through shadow to the edge of night Until the stars are all alight Mist and shadow cloud and shade All shall fade All shall fade  Faramir tell me everything Tell me all you know  March march March march march   somewhere in the wilderness  I wonder if well ever be put into songs or tales  What  I wonder if people will ever say Lets hear about Frodo and the Ring And theyll say Yes Thats one of my favourite stories Frodo was really courageous wasnt he Dad Yes my boy The most famousest of Hobbits And thats saying a lot  Well youve left out one of the chief characters Samwise the Brave I want to hear more about Sam  Frodo wouldnt have got far without Sam  Smeagol  So was l  Master Master looks after us Master wouldnt hurt us  Now Mr Frodo you shouldnt make fun I was being serious  Dont ask Smeagol Poor poor Smeagol  Samwise the Brave  Master broke his promise  You know nothing of this matter Were not going to wait for you Come on  Father  My son Leave me  Careful master Careful Very far to fall Very dangerous are the stairs  Come master  Come to Smeagol  Mr Frodo Get back you Dont touch him  Master betrayed us Wicked Tricksy False We ought to wring his filthy little neck Kill him Kill him Kill them both And then we take the precious and we be the master  He would have kept it for his own And when he returned you would not have known your son  Send forth all legions Do not stop the attack until the city is taken  Boromir was loyal to me Not some wizards pupil  Why does he hates poor Smeagol What has Smeagol ever done to him Master Master carries a heavy burden Smeagol knows heavy heavy burden Fat one cannot know He wants it He needs it Smeagol sees it in his eye Very soon he will ask you for it You will see The fat one will take it from you  But the fat Hobbit he knows Eyes always watching  Yes No No Its too risky Its too risky  Where is he Where has he gone Hey Gollum Where are you  Smeagol  We could let do it  Yes She could do it  Yes precious she could And then we takes it once theyre dead  Yes Yes Yes  Kill them both  Come on Hobbits Long ways to go yet Smeagol will show you the way  Then we stabs them out Put out his eyeses and make him crawl  Once theyre dead Ssssssssssssssh  Stay out of the forest Keep away from the trees Final count 42  Fortytwo Thats not bad for a pointyeared Elvish princeling I myself am sitting pretty on 43  Fortythree  I will break him  Where are Theodens riders  Will Rohans army come Mithrandir  Courage is the best defence that you have now  Follow me  He was twitching  Slay them all He was twitching because hes got my axe embedded in his nervous system  He doesnt look too happy does he  Not too happy at all Merry  Still I suppose the view would be quite nice from up there  He was already dead  What of the wizard  No it isnt Im starving  Good luck trying to find something decent around here Probably only dead rats and mouldy bread  Sarumans storeroom I dont believe it  It cant be  lt is Oh yes Its a quality establishment I hear the staff are very good  What are you doing  Nothing The worlds back to normal thats all  Its perfect One barrel each Wait Do you think we should share it with Treebeard  Share it No No Dead plant and all that Dont think hed understand Could be a distant relative  I get it Dont be hasty   Exactly Barhrum  Longbottom Leaf The finest pipeweed in South Farthing  The Shire must truly be a great realm Master Gamgee where gardeners are held in high honor  What road will you take once you reach the woods  Gollum says theres a path near Minas Morgul that climbs up into the mountains  Cirith Ungol  ls that its name  No No Yes  This is the old sewer Runs right under the river through to the edge of the city Youll find cover in the woods there  Captain Faramir you have shown your quality sir  The very highest  I must  lt is the only way Master says we must go to Mordor so we must try  Thank you   Go Frodo Go with the goodwill of all Men  Frodo they say a dark terror dwells in the passes above Minas Morgul You cannot go that way  May death find you quickly if you bring them to harm  Come on keep up  Mr Frodo didnt mean for them Rangers to hurt you You know that dont you He was trying to save you see  Very decent of you Very decent indeed Gollum  Faramir Orcs have taken the eastern shore Their numbers are too great By nightfall we will be overrun  Mr Frodo  Its calling to him Sam His Eye is almost on me  Hold on Mr Frodo Youll be all right  Take them to my father Tell him Faramir sends a mighty gift A weapon that will change our fortunes in this war  No no no hard feelings Gollum Gollum Yes master Nice Hobbits  So theres no hard feelings Forgive and forget  Save me  Do you want to know what happened to Boromir You want to know why your brother died He tried to take the Ring from Frodo after swearing an oath to protect him He tried to kill him The Ring drove your brother mad  Watch out Mr Frodo  Theyre here  Nazgul Theyve come  The fortress is taken It is over  You said this fortress would never fall while your men defend it They still defend it They have died defending it  Theyre past the door They are breaking in Is there no other way for the women and children to get out of the caves  Stay here Keep out of sight Take cover  Is there no other way  Nan Barad Nan Barad Haldir nan Barad  What are you doing What are you stopping for  Nan Barad To the Keep Haldir So much death What can Men do against such reckless hate  Ride out with me Ride out and meet them  Tell the women and children to make for the mountain pass And barricade the entrance For Rohan For your people  Aragorn Fall back to the Keep Get your men out of there  There is one passage It leads into the mountains But they will not get far The Urukhai are too many  The sun is rising  Look to my coming at first light on the fifth day At dawn Iook to the east  Yes  Yes Yes The horn of Helm Hammerhand shall sound in the Deep one last time  For death and glory  Gandalf   Theoden King stands alone  Brace the gate Hold them To the gate Draw your swords Make way We cannot hold much longer  Hold them How long do you need  Fell deeds awake Now for wrath now for ruin and a red dawn  As long as you can give me  Let this be the hour when we draw swords together  Forth Eorlingas  Gimli Timbers Brace the gate Come on We can take them  Toss me  To the king Yes A hit A fine hit  Break the dam Release the river Pippin Hold on Hold on little Hobbits  What are you doing  Where are you going  Its a long way  What  I cannot jump the distance Youll have to toss me Dont tell the Elf  Its me Its your Sam Dont you know your Sam  Eomer  Not alone Rohirrim  Shore up the door Watch our backs Throw another one over here Higher Hold fast the gate Gimli Aragorn Get out of there Aragorn Follow me to the barricade  Make way Fall back Fall back I cant do this Sam  I know Its all wrong By rights we shouldnt even be here But we are Its like in the great stories Mr Frodo The ones that really mattered Full of darkness and danger they were And sometimes you didnt want to know the end because how could the end be happy How could the world go back to the way it was when so much bad had happened  Victory We have victory Not a word  What are we holding on to Sam  That theres some good in this world Mr Frodo And its worth fighting for  I think at last we understand one another Frodo Baggins  You know the laws of our country the laws of your father If you let them go your life will be forfeit  Then it is forfeit Release them  They have broken through The castle is breached Retreat Folk in those stories had lots of chances of turning back only they didnt They kept going because they were holding on to something  But in the end its only a passing thing this shadow Even darkness must pass A new day will come And when the sun shines it will shine out the clearer Those were the stories that stayed with you that meant something Even if you were too small to understand why But I think Mr Frodo I do understand I know now  Retreat Hurry Inside Get them inside Into the Keep Pull everybody back Pull them back  Fall back I will leave you at the western borders of the forest You can make your way north to your homeland from there  That doesnt make sense to me But then you are very small Perhaps youre right South it is then Hold on little Shirelings I always like going south Somehow it feels like going downhill  Are you mad Well be caught  No we wont Not this time  Look Osgiliath burns Mordor has come  The Ring will not save Gondor It has only the power to destroy Please Iet me go  South But that will lead you past lsengard  Yes Exactly If we go south we can slip past Saruman unnoticed The closer we are to danger the farther we are from harm Its the last thing hell expect  Wait Stop Stop Turn around Turn around Take us south  Hurry  Faramir You must let me go And those little family of field mice that climb up sometimes and they tickle me awfully  They had voices of their own  Saruman A wizard should know better There is no curse in Elvish Entish or the tongues of Men for this treachery  You could have picked a better spot  Well lad whatever luck you live by lets hope it lasts the night  Your friends are with you Aragorn  Lets hope they last the night  Many of these trees were my friends Creatures I had known from nut and acorn   A Eruchn dano i faelas a hyn an uben tanatha le faelas  Whats happening out there  Im sorry Treebeard  Shall I describe it to you Or would you like me to find you a box  Look The trees Theyre moving Theyre always trying to get somewhere where they  Yes They have business with the Orcs My business is with lsengard tonight with rock and stone  So it begins  Tangado a chadad Faeg ivarv dn na lanc a nu ranc  Leithio i philinn Did they hit anything  Where are they going  Come my friends The Ents are going to war It is likely that we go to our doom Last march of the Ents  Give them a volley  Fire Fire Pendraith  Good Swords Swords Im on 17 Legolas Two already Ill have no pointyear outscoring me Ribed bant Send them to me Come on  Nineteen Merry  I have told your names to the Entmoot and we have agreed you are not Orcs  And what about Saruman Have you come to a decision about him  Well thats good news  We have just agreed  Yes  Now dont be hasty Master Meriadoc  War Yes It affects us all Tree root and twig But you must understand young Hobbit it takes a long time to say anything in Old Entish and we never say anything unless it is worth taking a long time to say  Hasty Our friends are out there They need our help They cannot fight this war on their own  Seventeen Eighteen Nineteen Twenty Twentyone Is this it Is this is all you can conjure Saruman  Togo hon dad Legolas  Brace the gate Aragorn Hold them Stand firm Gimli Hado i philinn Herio Causeway Dago hon Dago hon The Ents cannot hold back this storm We must weather such things as we have always done  How can that be your decision  You are young and brave Master Merry But your part in this tale is over Go back to your home  Maybe Treebeards right We dont belong here Merry Its too big for us What can we do in the end Weve got the Shire Maybe we should go home  The fires of lsengard will spread and the woods of Tuckborough and Buckland will burn And And all that was once green and good in this world will be gone There wont be a Shire Pippin  Boromir Boromir This city was once the jewel of our kingdom A place of light and beauty and music And so it shall be once more Let the armies of Mordor know this Never again will the land of my people fall into enemy hands This city of Osgiliath has been reclaimed for Gondor  For Gondor  But youre part of this world Arent you  This is not our war  For Gondor You must help Please You must do something  For Gondor Remember today little brother Today life is good  What  Hes here   One moment of peace can he not give us that  Where is he Where is Gondors finest Wheres my firstborn  Father Leaves more time for drinking Break out the ale These men are thirsty Good speech Nice and short  They exaggerate The victory belongs to Faramir also  Were you not entrusted to protect it  But for Faramir this city would still be standing  Oh too few You let the enemy walk in and take it on a whim Always you cast a poor reflection on me  I would have done but our numbers were too few  That is not my intent  For Gondor They say you vanquished the enemy almost singlehandedly  You give him no credit and yet he tries to do your will  lt has fallen into the hands of the Elves Everyone will try to claim it Men Dwarves wizards We cannot let that happen This thing must come to Gondor  Gondor   Its dangerous I know Ever the Ring will seek to corrupt the hearts of lesser Men But you you are strong And our need is great It is our blood which is being spilled our people who are dying Sauron is biding his time Hes massing fresh armies He will return And when he does we will be powerless to stop him You must go Bring me back this mighty gift  No My place is here with my people Not in Rivendell  Would you deny your own father  He loves you Father  lf there is need to go to Rivendell send me in his stead  The One Ring lsildurs Bane  Do not trouble me with Faramir I know his uses and they are few We have more urgent things to speak of Elrond of Rivendell has called a meeting He will not say why but I have guessed its purpose It is rumored that the weapon of the enemy has been found  You Oh I see A chance for Faramir captain of Gondor to show his quality I think not I trust this mission only to your brother The one who will not fail me  Remember today little brother  Captain Faramir We found the third one  You must come with me Now  Down there  To enter the Forbidden Pool bears the penalty of death They wait for my command Shall I shoot  The rock and pool Is nice and cool So juicy sweet Our only wish To catch a fish So juicy sweet Wait This creature is bound to me And I to him He is our guide Please Iet me go down to him  Smeagol Master is here Come Smeagol Trust master Come  We must go now  Dont hurt him Smeagol dont struggle Smeagol listen to me  Smeagol you must trust master Follow me Come on Come Come Smeagol Nice Smeagol Thats it Come on  Arwen Tollen i l I chair gwannar na Valannor Si bado no crar  Brego  He is not coming back Why do you linger herewhen there is no hope  May the grace of the Valarprotect you  Master Thats enough Where are you leading them Answer me   Smeagol Why does it cry Smeagol  Cruel Men hurts us Master tricksed us  Master betrayed us  No Not its business Leave us alone Filthy little Hobbitses They stole it from us There is still hope  If Aragorn survives this waryou will still be parted If Sauron is defeatedand Aragorn made king and all that you hope forcomes true you will still have to tastethe bitterness of mortality  Whether by the swordor the slow decay of time Aragorn will die And there will be no comfortfor you no comfort to ease the painof his passing He will come to death an image of the splendorof the kings of Men in glory undimmed beforethe breaking of the world  I have made my choice  Of course he did I told you he was tricksy I told you he was false  Master is our friend Our friend  Arwen There is nothing for you here only death  I amar prestar aen han mathon ne nen han mathon ne chae a han noston ned wilith  What news  But you my daughter you will linger on in darknessand in doubt as nightfall in winterthat comes without a star Here you will dwell bound to your griefunder the fading trees until all the world is changed and the long years of your lifeare utterly spent  How many  Some thousands More come every day  Whos covering the river to the north  We pulled 500 men at Osgiliath If their city is attacked we wont hold it  Gerich veleth nn ada  What did they steal  My precious No No  Our scouts report Saruman has attacked Rohan Theodens people have fled to Helms Deep But we must look to our own borders Faramir Orcs are on the move Sauron is marshaling an army Easterlings and Southrons are at the Black Gate  A im erin veleth ln  We have to get out of here You go Go now You can do it Use the Ring Mr Frodo Just this once Put it on Disappear  No Stop it Leave him alone Dont you understand Hes got to destroy it Thats where were going into Mordor To the Mountain of Fire  Osgiliath is under attack They call for reinforcements  Please Its such a burden Will you not help him  Captain   Prepare to leave The Ring will go to Gondor  Mr Frodo  So this is the answer to all the riddles Here in the Wild I have you two Halflings and a host of men at my call The Ring of Power within my grasp A chance for Faramir captain of Gondor to show his quality  My men tell me that you are Orc spies  Saruman attacks from lsengard Sauron from Mordor The fight will come to Men on both fronts Gondor is weak Sauron will strike us soon And he will strike hard He knows now we do not have the strength to repel him   I cant You were right Sam You tried to tell me but Im sorry The Rings taking me Sam If I put it on hell find me Hell see   Mae carnen Brego mellon nn  We are Hobbits of the Shire Frodo Baggins is my name and this is Samwise Gamgee  Your bodyguard  His gardener  And where is your skulking friend That gangrel creature He had an illfavored look  Well if youre not spies then who are you  There was no other We set out from Rivendell with seven companions One we lost in Moria two were my kin a Dwarf there was also And an Elf and two Men Aragorn son of Arathorn and Boromir of Gondor  Youre a friend of Boromir  Speak  Spies Now wait just a minute  Gimli where is the king  Le abdollen You look terrible  Hannon le  A great host you say  All lsengard is emptied  How many  Hes alive Yes For my part  Where is he Where is he Get out of the way Im going to kill himYou are the luckiest the canniest and the most reckless man I ever knew Bless you laddie  Ten thousand strong at least  Ten thousand  It is an army bred for a single purpose To destroy the world of Men They will be here by nightfall  I want every man and strong lad able to bear arms to be ready for battle by nightfall  Dead How When  As one of his companions Id hoped you would tell me  If something has happened to Boromir we would have you tell us  His horn washed up upon the riverbank about six days past It was cloven in two But more than this I know it in my heart He was my brother  This is no rabble of mindless Orcs These are Urukhai Their armour is thick and their shields broad  I have fought many wars Master Dwarf I know how to defend my own keep  Let them come They do not come to destroy Rohans crops or villages They come to destroy its people down to the last child  We will cover the causeway and the gate from above No army has ever breached the Deeping Wall or set foot inside the Hornburg It will grieve you then to learn that he is dead  They will break upon this fortress like water on rock Sarumans hordes will pillage and burn Weve seen it before Crops can be resown homes rebuilt Within these walls we will outlast them  What would you have me do Look at my men Their courage hangs by a thread If this is to be our end then I would have them make such an end as to be worthy of remembrance  And who will come Elves Dwarves We are not so lucky in our friends as you The old alliances are dead  Gondor will answer  We need more time to lay provisions The light of the Evenstardoes not wax and wane It is mine to give to whom I will Like my heart Go to sleep  I am asleep This is a dream  Then it is a good dream Sleep   Gondor Where was Gondor when the Westfold fell Where was Gondor when our enemies closed in around us Where was Gon No my Lord Aragorn we are alone Get the women and children into the caves  Send out riders my lord You must call for aid  Minl pendich nin i aur hen telitha  We wants it We needs it Must have the precious They stole it from us Sneaky little Hobbitses Wicked Tricksy False  Yes precious False They will cheat you hurt you lie  Masters my friend  Not listening Im not listening  Youre a liar and a thief  No  We Ents have not troubled about the wars of Men and wizards for a very long time But now something is about to happen that has not happened for an age Entmoot  There is no time War is upon us Secure the gate  No Not master  You dont have any friends Nobody likes you  Whats that  Tis a gathering  A gathering of what  Beech Oak Chestnut Ash Good Good Good Many have come Now we must decide if the Ents will go to war  Arwen  Ae esteliach nad estelio han Estelio ammen  Where is she The woman who gave you that jewel  Our time here is ending Arwens time is ending Let her go Let her take the ship into the west Let her bear away her love for youto the Undying Lands There it will be ever green  But never more than memory  I will not leave my daughter hereto die  Si peliannen i vd na dail ln Si boe dhannathach  Dolen i vd o nin   i vethed n i onnad Boe bedich go Frodo Han bd ln  Ma nathach hi gwannathach or minuial archened  Murderer  Go away  Go away  I hate you I hate you  Where would you be without me Gollum Gollum I saved us It was me We survived because of me  She stays because she still has hope  She stays for you She belongs with her people  Nach gwannatha sin  What did you say  Master looks after us now We dont need you  What  No  Not anymore  Leave now and never come back  Leave now and never come back  Leave now and never come back Gandalf the White Gandalf the FoolDoes he seek to humble mewith his newfound piety  The Ring of Barahir So Gandalf Greyhamethinks he has found lsildurs heir The lost king of Gondor He is a fool The line was broken years ago It matters not The world of Men shall fall It will begin at Edoras  I am ready Gamling Bring my horse  This is not a defeat We will return We will return  ethelithon  Estelio guru ln ne dagor Ethelithach  You stink of horse The Man was he from Gondor  bedin o gurth ne dagor  There were threewho followed the wizard An Elf a Dwarf and a Man  No from the North One of the Dunedain RangersI thought he was His cloth was poor And yet he bore a strange ringTwo serpents with emerald eyes One devouringthe other crowned with golden flowers  O man pedich  Edra le men men na guil edwen Haer o auth a nr a naeth  This belongs to you  It was a gift Keep it  My lord  She is sailing to the Undying Landswith all that is left of her kin  What is it Hama  Im not sure  I am mortal You are Elfkind It was a dream Arwen Nothing more  I dont believe you  A scout Wargs Look Look See what Smeagol finds  They are young They are tender They are nice Yes they are Eat them Eat them  Youll make him sick you will behaving like that Theres only one way to eata brace of coneys  We told him to go away And away he goes precious Gone Gone GoneSmeagol is free  Why are you saying this  Whats to ruin Theres hardly any meaton them  Potatoes  Boil them mash themstick them in a stew Lovely big golden chipswith a nice piece of fried fish  Even you couldnt say no to that  Whats it doing Stupid fat Hobbit It ruins it  Youre hopeless  Mr Frodo  Who are they  Whats taters precious Whats taters Eh  What we need is a few good taters  You have some skill with a blade  Oh yes we could Spoil a nice fish Give it to us raw and wriggling You keep nasty chips  Women of this country learned long agoThose without swordscan still die upon them I fear neither death nor pain  A cage To stay behind bars until useand old age accept them And all chance of valor has gonebeyond recall or desire  What do you fear my lady  Send out your Wargriders  Theoden will not stay at Edoras Its vulnerable He knows this He will expect an attack on the city They will flee to Helms Deep the great fortress of Rohan It is a dangerous road to takethrough the mountains They will be slow They will have women and childrenwith them  What  Call him names Run him down all the time  Because Because thats what he is Mr Frodo Theres naught left in himbut lies and deceit Its the Ring he wants Its all he cares about  Why do you do that  You have no idea what it did to him what its still doing to him I want to help him Sam  Youre a daughter of kings a shieldmaiden of Rohan I do not think that would be your fate  Why  Get them out of here All riders to the head of the column  What is it What do you see  Warg Were under attack You must lead the peopleto Helms Deep and make haste  Come on Get me up here Im a rider Come on NoYou must do this for me  I can fight  Hey stinker dont go gettingtoo far ahead  Forward I mean charge forward  Stay together Bring your pretty face to my axe  Follow me Thats it Go on Make for the lower ground Ready to do what  To make his war The last war that will coverall the world in Shadow  Mr Frodo Look Its an oliphaunt  Weve got to get moving Come on Sam  Wicked Men Servants of Sauron They are called to Mordor The Dark One is gathering all armiesto him It wont be long now He will soon be ready  No one at home will believe this  Smeagol  Weve lingered here too long Come on Sam  Wait Were innocent travelers We are bound to an errand of secrecy Those that claim to oppose the enemywould do well not to hinder us  The enemy His sense of duty was no lessthan yours I deem You wonder what his name is where he came from And if he was really evil at heart What lies or threats led himon this long march from home If he would not rather have stayed there in peace War will make corpses of us all Bind their hands  There are no travelers in this land Only servants of the Dark Tower  Because I have to believehe can come back  You cant save him Mr Frodo  Its true you dont seem any Dwarf women And in fact they are so alike in voice and appearance that theyre often mistaken for Dwarf men  What do you know about it Nothing Im sorry Sam I dont knowwhy I said that  I do Its the Ring You cant take your eyes off it Ive seen you Youre not eating You barely sleep Its taken hold of you Mr Frodo You have to fight it  I know what I have to do Sam The Ring was entrusted to me Its my task Mine My own  Cant you hear yourself Dont you know who you sound like  Aragorn That one counts as mine Stinking creature  You lie  Tell me what happened and I will ease your passing  Aragorn  Get the wounded on horses The wolves of lsengard will return Leave the dead '"
            ]
          },
          "metadata": {
            "tags": []
          },
          "execution_count": 5
        }
      ]
    },
    {
      "cell_type": "code",
      "metadata": {
        "id": "swIcD4F0qU1Z"
      },
      "source": [
        "def get_fixed_sequence(text, seq_len = 5):\n",
        "  sequences = []\n",
        "  words = text.split()\n",
        "  if len(words) > seq_len:\n",
        "    for i in range(seq_len, len(words)):\n",
        "      seq_list = words[i-seq_len: i]\n",
        "      sequences.append(\" \".join(seq_list))\n",
        "  else:\n",
        "    sequences = words\n",
        "  return sequences"
      ],
      "execution_count": 6,
      "outputs": []
    },
    {
      "cell_type": "code",
      "metadata": {
        "id": "GjaHUIW4qXed"
      },
      "source": [
        "seqs = [get_fixed_sequence(plot) for plot in movie_plots]"
      ],
      "execution_count": 7,
      "outputs": []
    },
    {
      "cell_type": "code",
      "metadata": {
        "id": "wdHlGgzkqbvU",
        "colab": {
          "base_uri": "https://localhost:8080/"
        },
        "outputId": "78dc4f46-28ef-426c-fc50-855a12cdfc62"
      },
      "source": [
        "len(seqs)"
      ],
      "execution_count": 8,
      "outputs": [
        {
          "output_type": "execute_result",
          "data": {
            "text/plain": [
              "1"
            ]
          },
          "metadata": {
            "tags": []
          },
          "execution_count": 8
        }
      ]
    },
    {
      "cell_type": "code",
      "metadata": {
        "id": "3ZH81alsqeuG"
      },
      "source": [
        "seqs = sum(seqs, [])"
      ],
      "execution_count": 9,
      "outputs": []
    },
    {
      "cell_type": "code",
      "metadata": {
        "id": "sak4Fk4wqfW6"
      },
      "source": [
        "seqs[1]"
      ],
      "execution_count": null,
      "outputs": []
    },
    {
      "cell_type": "code",
      "metadata": {
        "id": "iHbAWnGHqh6P"
      },
      "source": [
        "x = []\n",
        "y = []\n",
        "for seq in seqs:\n",
        "  words = seq.split()\n",
        "  x.append(\" \".join(words[:-1]))\n",
        "  y.append(\" \".join(words[1:]))"
      ],
      "execution_count": 11,
      "outputs": []
    },
    {
      "cell_type": "code",
      "metadata": {
        "id": "gWs5jHviqkgG",
        "colab": {
          "base_uri": "https://localhost:8080/"
        },
        "outputId": "11d040de-08ee-4940-c418-c40fb5f0aaef"
      },
      "source": [
        "x[0], y[0]"
      ],
      "execution_count": 12,
      "outputs": [
        {
          "output_type": "execute_result",
          "data": {
            "text/plain": [
              "('Deagol Deagol Deagol Give', 'Deagol Deagol Give us')"
            ]
          },
          "metadata": {
            "tags": []
          },
          "execution_count": 12
        }
      ]
    },
    {
      "cell_type": "code",
      "metadata": {
        "id": "6bBkqHikquv6",
        "colab": {
          "base_uri": "https://localhost:8080/"
        },
        "outputId": "ec5697cd-1daf-4694-e22c-cd0c15dd3b6f"
      },
      "source": [
        "# create integer-to-token mapping\n",
        "int2token = {}\n",
        "cnt = 0\n",
        "\n",
        "for w in set(\" \".join(movie_plots).split()):\n",
        "  int2token[cnt] = w\n",
        "  cnt+= 1\n",
        "\n",
        "# create token-to-integer mapping\n",
        "token2int = {t: i for i, t in int2token.items()}\n",
        "\n",
        "token2int[\"the\"], int2token[71]"
      ],
      "execution_count": 13,
      "outputs": [
        {
          "output_type": "execute_result",
          "data": {
            "text/plain": [
              "(382, 'crar')"
            ]
          },
          "metadata": {
            "tags": []
          },
          "execution_count": 13
        }
      ]
    },
    {
      "cell_type": "code",
      "metadata": {
        "id": "rgh2wcJ5qxYF"
      },
      "source": [
        "token2int"
      ],
      "execution_count": null,
      "outputs": []
    },
    {
      "cell_type": "code",
      "metadata": {
        "id": "XGcgLmmLq2-c",
        "colab": {
          "base_uri": "https://localhost:8080/"
        },
        "outputId": "deaf80f0-8e4f-4acf-9a8c-e46e31cb0d5d"
      },
      "source": [
        "# set vocabulary size\n",
        "vocab_size = len(int2token)\n",
        "vocab_size"
      ],
      "execution_count": 15,
      "outputs": [
        {
          "output_type": "execute_result",
          "data": {
            "text/plain": [
              "2215"
            ]
          },
          "metadata": {
            "tags": []
          },
          "execution_count": 15
        }
      ]
    },
    {
      "cell_type": "code",
      "metadata": {
        "id": "apLnbgwpq34K"
      },
      "source": [
        "def get_integer_seq(seq):\n",
        "  return [token2int[w] for w in seq.split()]\n",
        "\n",
        "# convert text sequences to integer sequences\n",
        "x_int = [get_integer_seq(i) for i in x]\n",
        "y_int = [get_integer_seq(i) for i in y]\n",
        "\n",
        "# convert lists to numpy arrays\n",
        "x_int = np.array(x_int)\n",
        "y_int = np.array(y_int)"
      ],
      "execution_count": 16,
      "outputs": []
    },
    {
      "cell_type": "code",
      "metadata": {
        "id": "5TxLsV7Bq7Ie",
        "colab": {
          "base_uri": "https://localhost:8080/"
        },
        "outputId": "53e3a865-348f-4865-f7a8-9dba87afaf85"
      },
      "source": [
        "x_int[0]"
      ],
      "execution_count": 17,
      "outputs": [
        {
          "output_type": "execute_result",
          "data": {
            "text/plain": [
              "array([1301, 1301, 1301, 1679])"
            ]
          },
          "metadata": {
            "tags": []
          },
          "execution_count": 17
        }
      ]
    },
    {
      "cell_type": "code",
      "metadata": {
        "id": "3fk8sh7Cq9dS"
      },
      "source": [
        "def get_batches(arr_x, arr_y, batch_size):\n",
        "  prev = 0\n",
        "  for n in range(batch_size, arr_x.shape[0], batch_size):\n",
        "    x = arr_x[prev:n]\n",
        "    y = arr_y[prev:n]\n",
        "    prev = n\n",
        "    yield x,y"
      ],
      "execution_count": 18,
      "outputs": []
    },
    {
      "cell_type": "code",
      "metadata": {
        "id": "56HZOPbNq_x7",
        "colab": {
          "base_uri": "https://localhost:8080/"
        },
        "outputId": "53475d32-5591-4fae-9548-3ae44023f3b2"
      },
      "source": [
        "# Get random words for word bank\n",
        "random_tokens = random.sample(list(token2int), 30)\n",
        "random_tokens"
      ],
      "execution_count": 19,
      "outputs": [
        {
          "output_type": "execute_result",
          "data": {
            "text/plain": [
              "['Ambarmetta',\n",
              " 'against',\n",
              " 'stubbornness',\n",
              " 'Wicked',\n",
              " 'withdraw',\n",
              " 'deep',\n",
              " 'No',\n",
              " 'lsildurs',\n",
              " 'flee',\n",
              " 'Battalions',\n",
              " 'SMEAGOL',\n",
              " 'ethelithon',\n",
              " 'Saurons',\n",
              " 'Undying',\n",
              " 'can',\n",
              " 'threads',\n",
              " 'shore',\n",
              " 'breached',\n",
              " 'takethrough',\n",
              " 'Thank',\n",
              " 'while',\n",
              " 'caught',\n",
              " 'fought',\n",
              " 'Take',\n",
              " 'Then',\n",
              " 'stinking',\n",
              " 'desire',\n",
              " 'bone',\n",
              " 'fleet',\n",
              " 'so']"
            ]
          },
          "metadata": {
            "tags": []
          },
          "execution_count": 19
        }
      ]
    },
    {
      "cell_type": "code",
      "metadata": {
        "id": "A7y2Q443VURm"
      },
      "source": [
        "class WordLSTM(nn.Module):\n",
        "    \n",
        "    def __init__(self, n_hidden=256, n_layers=4, drop_prob=0.3, lr=0.001):\n",
        "        super().__init__()\n",
        "\n",
        "        self.drop_prob = drop_prob\n",
        "        self.n_layers = n_layers\n",
        "        self.n_hidden = n_hidden\n",
        "        self.lr = lr\n",
        "        \n",
        "        self.emb_layer = nn.Embedding(vocab_size, 200)\n",
        "\n",
        "        ## define the LSTM\n",
        "        self.lstm = nn.LSTM(200, n_hidden, n_layers, \n",
        "                            dropout=drop_prob, batch_first=True)\n",
        "        \n",
        "        ## define a dropout layer\n",
        "        self.dropout = nn.Dropout(drop_prob)\n",
        "        \n",
        "        ## define the fully-connected layer\n",
        "        self.fc = nn.Linear(n_hidden, vocab_size)      \n",
        "    \n",
        "    def forward(self, x, hidden):\n",
        "        ''' Forward pass through the network. \n",
        "            These inputs are x, and the hidden/cell state `hidden`. '''\n",
        "\n",
        "        ## pass input through embedding layer\n",
        "        embedded = self.emb_layer(x)     \n",
        "        \n",
        "        ## Get the outputs and the new hidden state from the lstm\n",
        "        lstm_output, hidden = self.lstm(embedded, hidden)\n",
        "        \n",
        "        ## pass through a dropout layer\n",
        "        out = self.dropout(lstm_output)\n",
        "        \n",
        "        #out = out.contiguous().view(-1, self.n_hidden) \n",
        "        out = out.reshape(-1, self.n_hidden) \n",
        "\n",
        "        ## put \"out\" through the fully-connected layer\n",
        "        out = self.fc(out)\n",
        "\n",
        "        # return the final output and the hidden state\n",
        "        return out, hidden\n",
        "    \n",
        "    \n",
        "    def init_hidden(self, batch_size):\n",
        "        ''' initializes hidden state '''\n",
        "        # Create two new tensors with sizes n_layers x batch_size x n_hidden,\n",
        "        # initialized to zero, for hidden state and cell state of LSTM\n",
        "        weight = next(self.parameters()).data\n",
        "\n",
        "        # if GPU is available\n",
        "        if (torch.cuda.is_available()):\n",
        "          hidden = (weight.new(self.n_layers, batch_size, self.n_hidden).zero_().cuda(),\n",
        "                    weight.new(self.n_layers, batch_size, self.n_hidden).zero_().cuda())\n",
        "        \n",
        "        # if GPU is not available\n",
        "        else:\n",
        "          hidden = (weight.new(self.n_layers, batch_size, self.n_hidden).zero_(),\n",
        "                    weight.new(self.n_layers, batch_size, self.n_hidden).zero_())\n",
        "        \n",
        "        return hidden"
      ],
      "execution_count": 21,
      "outputs": []
    },
    {
      "cell_type": "code",
      "metadata": {
        "id": "JYeJzhnbrLor",
        "colab": {
          "base_uri": "https://localhost:8080/"
        },
        "outputId": "486c3c80-36a0-4b15-ac6a-22f82bcf6671"
      },
      "source": [
        "# instantiate the model\n",
        "net = WordLSTM()\n",
        "\n",
        "# push the model to GPU (avoid it if you are not using the GPU)\n",
        "net.cuda()\n",
        "\n",
        "print(net)"
      ],
      "execution_count": 22,
      "outputs": [
        {
          "output_type": "stream",
          "text": [
            "WordLSTM(\n",
            "  (emb_layer): Embedding(2215, 200)\n",
            "  (lstm): LSTM(200, 256, num_layers=4, batch_first=True, dropout=0.3)\n",
            "  (dropout): Dropout(p=0.3, inplace=False)\n",
            "  (fc): Linear(in_features=256, out_features=2215, bias=True)\n",
            ")\n"
          ],
          "name": "stdout"
        }
      ]
    },
    {
      "cell_type": "code",
      "metadata": {
        "id": "w-rhnkylrPzH",
        "colab": {
          "base_uri": "https://localhost:8080/"
        },
        "outputId": "1e11125d-20bc-4d67-fc10-fc26196e7c67"
      },
      "source": [
        "# Initialize optimizer\n",
        "optimizer = torch.optim.SGD(net.parameters(), lr=0.001, momentum=0.9)\n",
        "\n",
        "# Print model's state_dict\n",
        "print(\"Model's state_dict:\")\n",
        "for param_tensor in net.state_dict():\n",
        "    print(param_tensor, \"\\t\", net.state_dict()[param_tensor].size())\n",
        "\n",
        "# Print optimizer's state_dict\n",
        "print(\"Optimizer's state_dict:\")\n",
        "for var_name in optimizer.state_dict():\n",
        "    print(var_name, \"\\t\", optimizer.state_dict()[var_name])"
      ],
      "execution_count": 23,
      "outputs": [
        {
          "output_type": "stream",
          "text": [
            "Model's state_dict:\n",
            "emb_layer.weight \t torch.Size([2215, 200])\n",
            "lstm.weight_ih_l0 \t torch.Size([1024, 200])\n",
            "lstm.weight_hh_l0 \t torch.Size([1024, 256])\n",
            "lstm.bias_ih_l0 \t torch.Size([1024])\n",
            "lstm.bias_hh_l0 \t torch.Size([1024])\n",
            "lstm.weight_ih_l1 \t torch.Size([1024, 256])\n",
            "lstm.weight_hh_l1 \t torch.Size([1024, 256])\n",
            "lstm.bias_ih_l1 \t torch.Size([1024])\n",
            "lstm.bias_hh_l1 \t torch.Size([1024])\n",
            "lstm.weight_ih_l2 \t torch.Size([1024, 256])\n",
            "lstm.weight_hh_l2 \t torch.Size([1024, 256])\n",
            "lstm.bias_ih_l2 \t torch.Size([1024])\n",
            "lstm.bias_hh_l2 \t torch.Size([1024])\n",
            "lstm.weight_ih_l3 \t torch.Size([1024, 256])\n",
            "lstm.weight_hh_l3 \t torch.Size([1024, 256])\n",
            "lstm.bias_ih_l3 \t torch.Size([1024])\n",
            "lstm.bias_hh_l3 \t torch.Size([1024])\n",
            "fc.weight \t torch.Size([2215, 256])\n",
            "fc.bias \t torch.Size([2215])\n",
            "Optimizer's state_dict:\n",
            "state \t {}\n",
            "param_groups \t [{'lr': 0.001, 'momentum': 0.9, 'dampening': 0, 'weight_decay': 0, 'nesterov': False, 'params': [0, 1, 2, 3, 4, 5, 6, 7, 8, 9, 10, 11, 12, 13, 14, 15, 16, 17, 18]}]\n"
          ],
          "name": "stdout"
        }
      ]
    },
    {
      "cell_type": "code",
      "metadata": {
        "id": "zaCylrZcVx7e"
      },
      "source": [
        "def train(net, epochs=10, batch_size=200, lr=0.001, clip=1, print_every=32):\n",
        "    \n",
        "    # optimizer\n",
        "    opt = torch.optim.Adam(net.parameters(), lr=lr)\n",
        "    \n",
        "    # loss\n",
        "    criterion = nn.CrossEntropyLoss()\n",
        "    \n",
        "    # push model to GPU\n",
        "    net.cuda()\n",
        "    \n",
        "    counter = 0\n",
        "\n",
        "    net.train()\n",
        "\n",
        "    for e in range(epochs):\n",
        "\n",
        "        # initialize hidden state\n",
        "        h = net.init_hidden(batch_size)\n",
        "        \n",
        "        for x, y in get_batches(x_int, y_int, batch_size):\n",
        "            counter+= 1\n",
        "            \n",
        "            # convert numpy arrays to PyTorch arrays\n",
        "            inputs, targets = torch.from_numpy(x), torch.from_numpy(y)\n",
        "            \n",
        "            # push tensors to GPU\n",
        "            inputs, targets = inputs.cuda(), targets.cuda()\n",
        "\n",
        "            # detach hidden states\n",
        "            h = tuple([each.data for each in h])\n",
        "\n",
        "            # zero accumulated gradients\n",
        "            net.zero_grad()\n",
        "            \n",
        "            # get the output from the model\n",
        "            output, h = net(inputs, h)\n",
        "            \n",
        "            # calculate the loss and perform backprop\n",
        "            loss = criterion(output, targets.view(-1))\n",
        "\n",
        "            # back-propagate error\n",
        "            loss.backward()\n",
        "\n",
        "            # `clip_grad_norm` helps prevent the exploding gradient problem in RNNs / LSTMs.\n",
        "            nn.utils.clip_grad_norm_(net.parameters(), clip)\n",
        "\n",
        "            # update weigths\n",
        "            opt.step()            \n",
        "            \n",
        "            if counter % print_every == 0:\n",
        "            \n",
        "              print(\"Epoch: {}/{}...\".format(e+1, epochs),\n",
        "                    \"Step: {}...\".format(counter))"
      ],
      "execution_count": 24,
      "outputs": []
    },
    {
      "cell_type": "code",
      "metadata": {
        "id": "80xq6cBPrcMt",
        "colab": {
          "base_uri": "https://localhost:8080/"
        },
        "outputId": "3c644225-eb4b-4270-e3b9-f8c6018ee605"
      },
      "source": [
        "train(net, batch_size = 200, epochs=20, print_every=256)"
      ],
      "execution_count": 25,
      "outputs": [
        {
          "output_type": "stream",
          "text": [
            "Epoch: 6/20... Step: 256...\n",
            "Epoch: 11/20... Step: 512...\n",
            "Epoch: 16/20... Step: 768...\n"
          ],
          "name": "stdout"
        }
      ]
    },
    {
      "cell_type": "code",
      "metadata": {
        "id": "Uemx7F_LlW7X"
      },
      "source": [
        "def predict(net, tkn, h=None):\n",
        "         \n",
        "  # tensor inputs\n",
        "  x = np.array([[token2int[tkn]]])\n",
        "  inputs = torch.from_numpy(x)\n",
        "  \n",
        "  # push to GPU\n",
        "  inputs = inputs.cuda()\n",
        "\n",
        "  # detach hidden state from history\n",
        "  h = tuple([each.data for each in h])\n",
        "\n",
        "  # get the output of the model\n",
        "  out, h = net(inputs, h)\n",
        "\n",
        "  # get the token probabilities\n",
        "  p = F.softmax(out, dim=1).data\n",
        "\n",
        "  p = p.cpu()\n",
        "\n",
        "  p = p.numpy()\n",
        "  p = p.reshape(p.shape[1],)\n",
        "\n",
        "  # get indices of top 3 values\n",
        "  top_n_idx = p.argsort()[-3:][::-1]\n",
        "\n",
        "  # randomly select one of the three indices\n",
        "  sampled_token_index = top_n_idx[random.sample([0,1,2],1)[0]]\n",
        "\n",
        "  # return the encoded value of the predicted char and the hidden state\n",
        "  return int2token[sampled_token_index], h\n",
        "\n"
      ],
      "execution_count": 27,
      "outputs": []
    },
    {
      "cell_type": "code",
      "metadata": {
        "id": "AXb3odAVl5Jy"
      },
      "source": [
        "\n",
        "# function to generate text\n",
        "def sample(net, size, prime='The'):\n",
        "        \n",
        "    # push to GPU\n",
        "    net.cuda()\n",
        "    \n",
        "    net.eval()\n",
        "\n",
        "    # batch size is 1\n",
        "    h = net.init_hidden(1)\n",
        "\n",
        "    toks = prime.split()\n",
        "\n",
        "    # predict next token\n",
        "    for t in prime.split():\n",
        "      token, h = predict(net, t, h)\n",
        "    \n",
        "    toks.append(token)\n",
        "\n",
        "    # predict subsequent tokens\n",
        "    for i in range(size-1):\n",
        "        token, h = predict(net, toks[-1], h)\n",
        "        toks.append(token)\n",
        "\n",
        "    return ' '.join(toks)"
      ],
      "execution_count": 28,
      "outputs": []
    },
    {
      "cell_type": "code",
      "metadata": {
        "id": "k2wd1zj0rsg6",
        "colab": {
          "base_uri": "https://localhost:8080/",
          "height": 35
        },
        "outputId": "c575fb17-8e7c-499b-ea9f-baa3fc12bd5a"
      },
      "source": [
        "sample(net, 5)"
      ],
      "execution_count": 29,
      "outputs": [
        {
          "output_type": "execute_result",
          "data": {
            "application/vnd.google.colaboratory.intrinsic+json": {
              "type": "string"
            },
            "text/plain": [
              "'The precious We will have not'"
            ]
          },
          "metadata": {
            "tags": []
          },
          "execution_count": 29
        }
      ]
    },
    {
      "cell_type": "code",
      "metadata": {
        "id": "UbJ8LCjE8wRM"
      },
      "source": [
        "# save the model to disk\n",
        "# filename = 'LOTR_model.pickle'\n",
        "# pickle.dump(net, open(filename, 'wb'))"
      ],
      "execution_count": null,
      "outputs": []
    },
    {
      "cell_type": "code",
      "metadata": {
        "id": "dfGR7OwJ_can"
      },
      "source": [
        "# Specify a path\n",
        "PATH = \"LOTR_model.pt\"\n",
        "\n",
        "# Save\n",
        "torch.save(net, PATH)"
      ],
      "execution_count": null,
      "outputs": []
    },
    {
      "cell_type": "code",
      "metadata": {
        "id": "T3A5H-U3PN3G"
      },
      "source": [
        "# **** RANDOM WORDS ****"
      ],
      "execution_count": null,
      "outputs": []
    },
    {
      "cell_type": "code",
      "metadata": {
        "id": "GSt9akBmFZdS"
      },
      "source": [
        "# **** Option 1: Get random words for word bank without removing common English words ****\n",
        "random_tokens = random.sample(list(token2int), 50)\n",
        "random_tokens"
      ],
      "execution_count": null,
      "outputs": []
    },
    {
      "cell_type": "code",
      "metadata": {
        "id": "kmGurMV-PEB5"
      },
      "source": [
        "# *** Get random words from list of words that doesn't include most common English words ***"
      ],
      "execution_count": null,
      "outputs": []
    },
    {
      "cell_type": "code",
      "metadata": {
        "id": "KonUWT7kPJJI"
      },
      "source": [
        "# read pickle file - most common english words\n",
        "pickle_in = open(\"common_words.pkl\",\"rb\")\n",
        "common_words = pickle.load(pickle_in)\n",
        "\n",
        "# count of movie plot summaries\n",
        "len(common_words)"
      ],
      "execution_count": null,
      "outputs": []
    },
    {
      "cell_type": "code",
      "metadata": {
        "id": "khw7I_bXPzgu"
      },
      "source": [
        "# Filter out common english words \n",
        "from collections import Counter\n",
        "\n",
        "# Create list of all the words in the string\n",
        "movie_list = movie_plots[0].split()"
      ],
      "execution_count": null,
      "outputs": []
    },
    {
      "cell_type": "code",
      "metadata": {
        "id": "GVlByEsWQAch"
      },
      "source": [
        "movie_list"
      ],
      "execution_count": null,
      "outputs": []
    },
    {
      "cell_type": "code",
      "metadata": {
        "id": "XoAvn5jeQA_Q"
      },
      "source": [
        ""
      ],
      "execution_count": null,
      "outputs": []
    },
    {
      "cell_type": "code",
      "metadata": {
        "id": "tyfOS0Eq7GXn"
      },
      "source": [
        "new_movie_list = [i for i in movie_list if i not in common_words]"
      ],
      "execution_count": null,
      "outputs": []
    },
    {
      "cell_type": "code",
      "metadata": {
        "id": "mt1Oj6mM6GAg"
      },
      "source": [
        "new_movie_list"
      ],
      "execution_count": null,
      "outputs": []
    },
    {
      "cell_type": "code",
      "metadata": {
        "id": "D4ToEmrO7YHy"
      },
      "source": [
        "# Get the count of each word.\n",
        "word_count = Counter(new_movie_list)\n",
        "\n",
        "# Use most_common() method from Counter subclass\n",
        "print(word_count.most_common(20))"
      ],
      "execution_count": null,
      "outputs": []
    },
    {
      "cell_type": "code",
      "metadata": {
        "id": "S_z7-R2diIUr"
      },
      "source": [
        "# **** Option 1: Get random words for word bank without removing common English words ****\n",
        "random_tokens = random.sample(list(token2int), 50)\n",
        "random_tokens"
      ],
      "execution_count": null,
      "outputs": []
    },
    {
      "cell_type": "code",
      "metadata": {
        "id": "a5lcOCo6eWXA"
      },
      "source": [
        "# *** Option2: Get random words from list of words that doesn't include most common English words ***"
      ],
      "execution_count": null,
      "outputs": []
    },
    {
      "cell_type": "code",
      "metadata": {
        "id": "JAsoEaAHeZeT"
      },
      "source": [
        "new_movie_list2 = [i for i in token2int if i not in common_words]"
      ],
      "execution_count": null,
      "outputs": []
    },
    {
      "cell_type": "code",
      "metadata": {
        "id": "p9dxAqb9ecCT"
      },
      "source": [
        "# Get random words for word bank\n",
        "random_tokens2 = random.sample(list(new_movie_list2), 50)\n",
        "random_tokens2"
      ],
      "execution_count": null,
      "outputs": []
    }
  ]
}