{
  "nbformat": 4,
  "nbformat_minor": 0,
  "metadata": {
    "colab": {
      "name": "Marvel_NLG_Pytorch_model.ipynb",
      "provenance": []
    },
    "kernelspec": {
      "name": "python3",
      "display_name": "Python 3"
    },
    "accelerator": "GPU"
  },
  "cells": [
    {
      "cell_type": "code",
      "metadata": {
        "id": "Wr8p99u1oNft"
      },
      "source": [
        "# Marvel Model"
      ],
      "execution_count": null,
      "outputs": []
    },
    {
      "cell_type": "code",
      "metadata": {
        "id": "PFi6EMBWpBtp"
      },
      "source": [
        "# install java\n",
        "!apt-get install openjdk-8-jdk-headless -qq > /dev/null\n",
        "\n",
        "# install spark (change the version number if needed)\n",
        "!wget -q https://archive.apache.org/dist/spark/spark-3.0.0/spark-3.0.0-bin-hadoop3.2.tgz\n",
        "\n",
        "# unzip the spark file to the current folder\n",
        "!tar xf spark-3.0.0-bin-hadoop3.2.tgz\n",
        "\n",
        "# set your spark folder to your system path environment. \n",
        "import os\n",
        "os.environ[\"JAVA_HOME\"] = \"/usr/lib/jvm/java-8-openjdk-amd64\"\n",
        "os.environ[\"SPARK_HOME\"] = \"/content/spark-3.0.0-bin-hadoop3.2\"\n",
        "\n",
        "\n",
        "# install findspark using pip\n",
        "!pip install -q findspark"
      ],
      "execution_count": null,
      "outputs": []
    },
    {
      "cell_type": "code",
      "metadata": {
        "id": "joENwtf_pEzI"
      },
      "source": [
        "import pickle\n",
        "import re\n",
        "import numpy as np\n",
        "import torch.nn as nn\n",
        "import torch\n",
        "import torch.nn.functional as F\n",
        "import random"
      ],
      "execution_count": null,
      "outputs": []
    },
    {
      "cell_type": "code",
      "metadata": {
        "id": "ChYj_KYypHrC",
        "colab": {
          "base_uri": "https://localhost:8080/"
        },
        "outputId": "26c4c64b-b952-4040-a8ec-37762cf730a7"
      },
      "source": [
        "# read pickle file\n",
        "pickle_in = open(\"marvel_list.pkl\",\"rb\")\n",
        "movie_plots = pickle.load(pickle_in)\n",
        "\n",
        "# count of movie plot summaries\n",
        "len(movie_plots)"
      ],
      "execution_count": null,
      "outputs": [
        {
          "output_type": "execute_result",
          "data": {
            "text/plain": [
              "1"
            ]
          },
          "metadata": {
            "tags": []
          },
          "execution_count": 4
        }
      ]
    },
    {
      "cell_type": "code",
      "metadata": {
        "id": "t4fyxGDMpKXB",
        "colab": {
          "base_uri": "https://localhost:8080/",
          "height": 160
        },
        "outputId": "030002d4-9af7-43b6-9fc7-a0d4b50c276a"
      },
      "source": [
        "movie_plots[0]"
      ],
      "execution_count": null,
      "outputs": [
        {
          "output_type": "execute_result",
          "data": {
            "application/vnd.google.colaboratory.intrinsic+json": {
              "type": "string"
            },
            "text/plain": [
              "'Investigating the murder of a teenage girl Cage suddenly learns that a threeway gang war is under way for control of the turf 3D Man Acts of Vengeance Loki sets about convincing the supervillains of Earth to attack heroes other than those they normally fight in an attempt to destroy the Avengers to absolve his guilt over inadvertently creating the team in the first place In the wake of September 11th the world watched as firefighters police officers and EMT workers selflessly risked their lives ABomb HAS Rick Jones has been Hulks best bud since day one but now hes more than a friendhes a teammate Transformed by a Gamma energy explosion ABombs thick armored skin is just as strong and powerful as it is blue And when he curls into action he uses it like a giant bowling ball of destruction Age of Apocalypse In a twisted version of the world they knew the XMen battle against the eternal mutant Apocalypse as Bishop seeks to repair the timeline Legion Xaviers own son attempts to kill off all of Xaviers enemies however when Legion attempts to murder Magneto Xavier sacrifices his own life to save Magnus As a result Magneto casts off his antihuman sentiments and carries on Xaviers dream of peaceful coexistence thereby founding the XMen Ordinary New York City cop Frankie QUOTGunzQUOT Gunzer now has a new call to duty Ñ not just to uphold the law but to save AIM AIM is a terrorist organization bent on destroying the world Age of Ultron In a 10issue event written by Brian Michael Bendis with art by Bryan Hitch Carlos Pacheco Brandon Peterson and more the heroes of the Marvel Universe have already fallen with the robot Ultron remaking the world in his image The surviving Avengers XMen and others must fight through time and space in the hope of defeating their foe by any means necessary In this thoughtprovoking anthology a worldclass collection of top comicbook creators from around the globe presents a series Aaron Stack Age of X In a strange reality where the XMen never came to be the war between humans and mutants has escalated to a level never before seen What has become of our heroes and who will survive as the final war commences Interior 11 Abomination Emil Blonsky Formerly known as Emil Blonsky a spy of Soviet Yugoslavian origin working for the KGB the Abomination gained his powers after receiving a dose of gamma radiation similar to that which transformed Bruce Banner into the incredible Hulk AllNew AllDifferent Marvel This fall prepare for an allnew alldifferent Marvel Universe to begin Presenting visionary writerartist Frank Millers unique take on the worldfamous wallcrawler Ñ including appearances by the Pu Abomination Ultimate Annihilation Parallel stories pitting the Silver Surfer Nova Ronan the Accuser and the SuperSkrull against Annihilus and his forces lead into a climatic sixissue war written by Keith Giffen with art by Andrea DiVito Follow the machinations of Thanos the power of Galactus and the early seeds that will create the Guardians of the Galaxy Karen Page Daredevils former lover trades away Daredevils identity for a drug fix Matt Murdock must find strength as the K Absorbing Man Annihilation Conquest The Phalanx have a new leader in the killer robot Ultron and hes looking for nothing less than univesal conquest Theyve already taken the Kree and assimilated heroes like Ronan and Drax can a rag tag group including StarLord Quasar Wraith and the reborn Adam Warlock stop them This classic tale explores Matt Murdocks formative years Ñ detailing the relationship between him and his father and the event Abyss Armor Wars Tony Stark discovers that someone has been stealing his Iron Man tech and selling it to supervillains He decides he must do whatever it takes to reacquire or destroy the stolen tech Frank Millers Daredevil submerged us in a world where heroes pushed to the brink of madness were allowed to mirror the human Abyss Age of Apocalypse Atlantis Attacks Ghaur returns to complete his quest to resurrect the evil god Set but his plan is opposed by Earths heroes This volume features the gritty streetlevel action and moody atmosphere that made Millers Daredevil classic Ñ including appea Adam Destine Avengers Disassembled Writer Brian Michael Bendis kicks off his historic run with the Avengers by bringing the previous era to a close alongside artist David Finch Chaos reigns when of Earthâs Mightiest Heroes turns against their teammates leading the Avengers into a battle that not all will survive Featuring Iron Man Captain America Hawkeye the Scarlet Witch and more Concluding Millers complete run the Man Without Fear faces the Kingpin of Crime and the Hand Ñ and must come to grips with t Adam Warlock Adam Warlock is an artificially created human who was born in a cocoon at a scientific complex called The Beehive Avengers NOW Sam Wilson formerly the Falcon becomes the AllNew Captain America When Thor proves unworthy a female God of Thunder rises up Tony Stark declares himself the Superior Iron Man Earths Mightiest Heroes undergo major changes across the board Maya Lopez Ñ deaf but capable of assimilating an individuals fighting style on sight Ñ has set her sights on Daredevil who sh Aegis Trey Rollins Avengers VS XMen A 12issue event written by the unprecedented team of Brian Michael Bendis Jason Aaron Jonathan Hickman Ed Brubaker and Matt Fraction with art by the blockbuster trio of John Romita Jr Olivier Coipel and Adam Kubert Avengers VS XMen brings Marvels biggest characters up against the greatest threat theyve ever faced each other A contract on Matt Murdocks life is somehow connected to the Kingpins apparent murder at the hands of the mysterious Mr Silke Agent Brand Axis The Red Skull has taken over Genosha and stands poised to plunge the planet into World War Hate The Avengers and XMen must teamup with each other and some of their greatest foes but along the way Inversion changes everything Anything can happen in this nineissue event written by Rick Remender with the art of Jim Cheung Terry Dodson Adam Kubert and Leinil Yu A downonhisluck FBI agent has sold the heros most guarded secret to a tabloid newspaper exposing Daredevils identity to th Agent X Nijo Originally a partner of the mindaltering assassin Black Swan Nijo spied on Deadpool as part of the Swans plan to exact revenge for Deadpool falsely taking credit for the Swans assassination of the Four Winds crime family which included Nijos brother Blood and Thunder Driven mad by the machinations of the evil Valkyrie Thor sets out to destroy the Nine Worlds but is opposed by the Silver Surfer Warlock and the Infinity Watch Elektra Assassin Ñ the story of how a tragic murder transformed an innocent nave college student into a deadly assassin and Agent Zero Chaos War When the Chaos King embarks on a campaign to wipe out all of existence Hercules gathers the God Squad to stand in his way Writers Greg Pak and Fred Van Lente join artist Khoi Pham to pit Herc and his rag tag teamâincluding Thor the Silver Surfer and Amadeus Choâagainst an allpowerful evil as dead heroes and villains rise around them Haunted by her own fathers death Elektra finds that killing her latest targets daughter Ñ the only witness to the murder Ñ is Agents of Atlas Civil War After a horrific tragedy raises questions on whether or not super heroes should register with the government longtime Avengers teammates Captain America and Iron Man end up on opposite sides of the argument Writer Mark Millar and artist Steve McNiven split the Marvel Universe in two as friend fights friend in one of the most celebrated and successful events of alltime Despite the fact that Elektra died in his arms Daredevil is plagued by recurring nightmares and terrible premonitions that his Aginar Civil War II The drums of war beat for the Marvel Universe this June as Civil War II 1 arrives with a doublesize issue Blockbuster creators Brian Michael Bendis David Marquez and Justin Ponsor bring readers a Marvel Universe dividedwith Iron Man and Captain Marvel leading opposing sides A new power has emerged one that can predict the future Will the heroes fight to protect the future or change the future Choose your side SHIELD offers Elektra a mission so dirty so difficult no one else could pull it off But if Elektra takes the job she AirWalker Gabriel Lan Crossing Iron Man betrays the Avengers to Kang at the cost of several lives ultimately including his own Caught in the heart of a nuclear explosion mildmannered scientist Bruce Banner finds himself Ñ during moments of extreme stres Ajak Dark Reign Norman Osborn came out the hero of Secret Invasion and now the former Green Goblin has been handed control of the Marvel Universe With his Cabal and the Dark Avengers at his side can anything stop this long time villain from reshaping the world in his own image And what has become of the heroes The second volume containing the Hulks early adventures with appearances by the SubMariner the Mandarin KaZar and Nick Fury Ajaxis Days of Future Present An adult Franklin Richards travels back from the year 2017 to repair perceived inaccuracies in the timeline by altering reality Richards tampering of reality triggers a Sentinel program that awakens Ahab the mutant houndmaster who attempts to apprehend the adult Richards in order to prevent any deviations from the timeline that spurs the Sentinelruled North America'"
            ]
          },
          "metadata": {
            "tags": []
          },
          "execution_count": 5
        }
      ]
    },
    {
      "cell_type": "code",
      "metadata": {
        "id": "swIcD4F0qU1Z"
      },
      "source": [
        "def get_fixed_sequence(text, seq_len = 5):\n",
        "  sequences = []\n",
        "  words = text.split()\n",
        "  if len(words) > seq_len:\n",
        "    for i in range(seq_len, len(words)):\n",
        "      seq_list = words[i-seq_len: i]\n",
        "      sequences.append(\" \".join(seq_list))\n",
        "  else:\n",
        "    sequences = words\n",
        "  return sequences"
      ],
      "execution_count": null,
      "outputs": []
    },
    {
      "cell_type": "code",
      "metadata": {
        "id": "GjaHUIW4qXed"
      },
      "source": [
        "seqs = [get_fixed_sequence(plot) for plot in movie_plots]"
      ],
      "execution_count": null,
      "outputs": []
    },
    {
      "cell_type": "code",
      "metadata": {
        "id": "wdHlGgzkqbvU",
        "colab": {
          "base_uri": "https://localhost:8080/"
        },
        "outputId": "accd2aae-d1cd-4ea6-8619-535d46e3fd9f"
      },
      "source": [
        "len(seqs)"
      ],
      "execution_count": null,
      "outputs": [
        {
          "output_type": "execute_result",
          "data": {
            "text/plain": [
              "1"
            ]
          },
          "metadata": {
            "tags": []
          },
          "execution_count": 8
        }
      ]
    },
    {
      "cell_type": "code",
      "metadata": {
        "id": "3ZH81alsqeuG"
      },
      "source": [
        "seqs = sum(seqs, [])"
      ],
      "execution_count": null,
      "outputs": []
    },
    {
      "cell_type": "code",
      "metadata": {
        "id": "sak4Fk4wqfW6",
        "colab": {
          "base_uri": "https://localhost:8080/",
          "height": 35
        },
        "outputId": "e0258c03-b982-4be5-ea88-2f6a80b0866c"
      },
      "source": [
        "seqs[1]"
      ],
      "execution_count": null,
      "outputs": [
        {
          "output_type": "execute_result",
          "data": {
            "application/vnd.google.colaboratory.intrinsic+json": {
              "type": "string"
            },
            "text/plain": [
              "'the murder of a teenage'"
            ]
          },
          "metadata": {
            "tags": []
          },
          "execution_count": 10
        }
      ]
    },
    {
      "cell_type": "code",
      "metadata": {
        "id": "iHbAWnGHqh6P"
      },
      "source": [
        "x = []\n",
        "y = []\n",
        "for seq in seqs:\n",
        "  words = seq.split()\n",
        "  x.append(\" \".join(words[:-1]))\n",
        "  y.append(\" \".join(words[1:]))"
      ],
      "execution_count": null,
      "outputs": []
    },
    {
      "cell_type": "code",
      "metadata": {
        "id": "gWs5jHviqkgG",
        "colab": {
          "base_uri": "https://localhost:8080/"
        },
        "outputId": "e600f9ca-6338-49be-ae3a-80bdafc2a6c4"
      },
      "source": [
        "x[0], y[0]"
      ],
      "execution_count": null,
      "outputs": [
        {
          "output_type": "execute_result",
          "data": {
            "text/plain": [
              "('Investigating the murder of', 'the murder of a')"
            ]
          },
          "metadata": {
            "tags": []
          },
          "execution_count": 12
        }
      ]
    },
    {
      "cell_type": "code",
      "metadata": {
        "id": "6bBkqHikquv6",
        "colab": {
          "base_uri": "https://localhost:8080/"
        },
        "outputId": "f901a264-3bce-4565-a2dc-5d09b6fb0a7e"
      },
      "source": [
        "# create integer-to-token mapping\n",
        "int2token = {}\n",
        "cnt = 0\n",
        "\n",
        "for w in set(\" \".join(movie_plots).split()):\n",
        "  int2token[cnt] = w\n",
        "  cnt+= 1\n",
        "\n",
        "# create token-to-integer mapping\n",
        "token2int = {t: i for i, t in int2token.items()}\n",
        "\n",
        "token2int[\"the\"], int2token[71]"
      ],
      "execution_count": null,
      "outputs": [
        {
          "output_type": "execute_result",
          "data": {
            "text/plain": [
              "(523, 'us')"
            ]
          },
          "metadata": {
            "tags": []
          },
          "execution_count": 13
        }
      ]
    },
    {
      "cell_type": "code",
      "metadata": {
        "id": "rgh2wcJ5qxYF",
        "colab": {
          "base_uri": "https://localhost:8080/"
        },
        "outputId": "dd128f70-ca7d-416e-e6c6-e47d5fd10d6d"
      },
      "source": [
        "token2int"
      ],
      "execution_count": null,
      "outputs": [
        {
          "output_type": "execute_result",
          "data": {
            "text/plain": [
              "{'1': 715,\n",
              " '10issue': 637,\n",
              " '11': 61,\n",
              " '11th': 154,\n",
              " '12issue': 524,\n",
              " '2017': 298,\n",
              " '3D': 579,\n",
              " 'A': 586,\n",
              " 'ABomb': 249,\n",
              " 'ABombs': 236,\n",
              " 'AIM': 95,\n",
              " 'Aaron': 225,\n",
              " 'Abomination': 778,\n",
              " 'Absorbing': 250,\n",
              " 'Abyss': 107,\n",
              " 'Accuser': 762,\n",
              " 'Acts': 581,\n",
              " 'Adam': 403,\n",
              " 'Aegis': 480,\n",
              " 'After': 515,\n",
              " 'Age': 740,\n",
              " 'Agent': 279,\n",
              " 'Agents': 47,\n",
              " 'Aginar': 600,\n",
              " 'Ahab': 664,\n",
              " 'AirWalker': 201,\n",
              " 'Ajak': 48,\n",
              " 'Ajaxis': 455,\n",
              " 'AllDifferent': 336,\n",
              " 'AllNew': 472,\n",
              " 'Amadeus': 219,\n",
              " 'America': 404,\n",
              " 'An': 200,\n",
              " 'And': 660,\n",
              " 'Andrea': 462,\n",
              " 'Annihilation': 738,\n",
              " 'Annihilus': 812,\n",
              " 'Anything': 157,\n",
              " 'Apocalypse': 804,\n",
              " 'Armor': 314,\n",
              " 'As': 734,\n",
              " 'Assassin': 665,\n",
              " 'Atlantis': 108,\n",
              " 'Atlas': 530,\n",
              " 'Attacks': 59,\n",
              " 'Avengers': 374,\n",
              " 'Axis': 265,\n",
              " 'Banner': 448,\n",
              " 'Beehive': 231,\n",
              " 'Bendis': 187,\n",
              " 'Bishop': 126,\n",
              " 'Black': 301,\n",
              " 'Blockbuster': 699,\n",
              " 'Blonsky': 824,\n",
              " 'Blood': 99,\n",
              " 'Brand': 556,\n",
              " 'Brandon': 732,\n",
              " 'Brian': 339,\n",
              " 'Brubaker': 780,\n",
              " 'Bruce': 532,\n",
              " 'Bryan': 125,\n",
              " 'But': 502,\n",
              " 'Cabal': 317,\n",
              " 'Cage': 608,\n",
              " 'Captain': 440,\n",
              " 'Carlos': 182,\n",
              " 'Caught': 400,\n",
              " 'Chaos': 795,\n",
              " 'Cheung': 74,\n",
              " 'Choose': 748,\n",
              " 'Choâagainst': 349,\n",
              " 'City': 681,\n",
              " 'Civil': 330,\n",
              " 'Coipel': 597,\n",
              " 'Concluding': 15,\n",
              " 'Conquest': 360,\n",
              " 'Crime': 486,\n",
              " 'Crossing': 134,\n",
              " 'Daredevil': 380,\n",
              " 'Daredevils': 471,\n",
              " 'Dark': 598,\n",
              " 'David': 489,\n",
              " 'Days': 102,\n",
              " 'Deadpool': 487,\n",
              " 'Despite': 6,\n",
              " 'Destine': 316,\n",
              " 'DiVito': 226,\n",
              " 'Disassembled': 256,\n",
              " 'Dodson': 276,\n",
              " 'Drax': 708,\n",
              " 'Driven': 684,\n",
              " 'EMT': 355,\n",
              " 'Earth': 433,\n",
              " 'Earths': 179,\n",
              " 'Earthâs': 443,\n",
              " 'Ed': 744,\n",
              " 'Elektra': 752,\n",
              " 'Emil': 704,\n",
              " 'FBI': 311,\n",
              " 'Falcon': 572,\n",
              " 'Fear': 251,\n",
              " 'Featuring': 151,\n",
              " 'Finch': 501,\n",
              " 'Follow': 799,\n",
              " 'Formerly': 80,\n",
              " 'Four': 93,\n",
              " 'Fraction': 191,\n",
              " 'Frank': 165,\n",
              " 'Frankie': 293,\n",
              " 'Franklin': 817,\n",
              " 'Fred': 338,\n",
              " 'Fury': 542,\n",
              " 'Future': 116,\n",
              " 'Gabriel': 499,\n",
              " 'Galactus': 718,\n",
              " 'Galaxy': 0,\n",
              " 'Gamma': 368,\n",
              " 'Genosha': 765,\n",
              " 'Ghaur': 17,\n",
              " 'Giffen': 117,\n",
              " 'Goblin': 98,\n",
              " 'God': 713,\n",
              " 'Green': 278,\n",
              " 'Greg': 536,\n",
              " 'Guardians': 306,\n",
              " 'Gunzer': 193,\n",
              " 'HAS': 174,\n",
              " 'Hand': 177,\n",
              " 'Hate': 529,\n",
              " 'Haunted': 329,\n",
              " 'Hawkeye': 42,\n",
              " 'He': 425,\n",
              " 'Herc': 633,\n",
              " 'Hercules': 269,\n",
              " 'Heroes': 429,\n",
              " 'Hickman': 453,\n",
              " 'Hitch': 419,\n",
              " 'Hulk': 70,\n",
              " 'Hulks': 552,\n",
              " 'II': 230,\n",
              " 'In': 460,\n",
              " 'Infinity': 819,\n",
              " 'Interior': 261,\n",
              " 'Invasion': 8,\n",
              " 'Inversion': 274,\n",
              " 'Investigating': 328,\n",
              " 'Iron': 371,\n",
              " 'Jason': 644,\n",
              " 'Jim': 424,\n",
              " 'John': 345,\n",
              " 'Jonathan': 406,\n",
              " 'Jones': 768,\n",
              " 'Jr': 520,\n",
              " 'June': 565,\n",
              " 'Justin': 773,\n",
              " 'K': 825,\n",
              " 'KGB': 823,\n",
              " 'KaZar': 601,\n",
              " 'Kang': 386,\n",
              " 'Karen': 286,\n",
              " 'Keith': 22,\n",
              " 'Khoi': 88,\n",
              " 'King': 528,\n",
              " 'Kingpin': 504,\n",
              " 'Kingpins': 728,\n",
              " 'Kree': 156,\n",
              " 'Kubert': 18,\n",
              " 'Lan': 190,\n",
              " 'Legion': 701,\n",
              " 'Leinil': 585,\n",
              " 'Lente': 533,\n",
              " 'Loki': 254,\n",
              " 'Lopez': 426,\n",
              " 'Magneto': 724,\n",
              " 'Magnus': 816,\n",
              " 'Man': 185,\n",
              " 'Mandarin': 323,\n",
              " 'Mark': 252,\n",
              " 'Marquez': 634,\n",
              " 'Marvel': 89,\n",
              " 'Marvels': 473,\n",
              " 'Matt': 341,\n",
              " 'Maya': 588,\n",
              " 'McNiven': 235,\n",
              " 'Michael': 130,\n",
              " 'Mightiest': 656,\n",
              " 'Millar': 255,\n",
              " 'Millers': 544,\n",
              " 'Mr': 168,\n",
              " 'Murdock': 496,\n",
              " 'Murdocks': 9,\n",
              " 'NOW': 490,\n",
              " 'New': 818,\n",
              " 'Nick': 239,\n",
              " 'Nijo': 408,\n",
              " 'Nijos': 474,\n",
              " 'Nine': 709,\n",
              " 'Norman': 538,\n",
              " 'North': 591,\n",
              " 'Nova': 798,\n",
              " 'Olivier': 442,\n",
              " 'Ordinary': 302,\n",
              " 'Originally': 621,\n",
              " 'Osborn': 198,\n",
              " 'Pacheco': 808,\n",
              " 'Page': 394,\n",
              " 'Pak': 186,\n",
              " 'Parallel': 609,\n",
              " 'Peterson': 539,\n",
              " 'Phalanx': 178,\n",
              " 'Pham': 661,\n",
              " 'Ponsor': 243,\n",
              " 'Present': 669,\n",
              " 'Presenting': 175,\n",
              " 'Pu': 119,\n",
              " 'QUOTGunzQUOT': 570,\n",
              " 'Quasar': 589,\n",
              " 'Red': 717,\n",
              " 'Reign': 464,\n",
              " 'Remender': 262,\n",
              " 'Richards': 227,\n",
              " 'Rick': 195,\n",
              " 'Rollins': 113,\n",
              " 'Romita': 246,\n",
              " 'Ronan': 104,\n",
              " 'SHIELD': 461,\n",
              " 'Sam': 350,\n",
              " 'Scarlet': 79,\n",
              " 'Secret': 367,\n",
              " 'Sentinel': 488,\n",
              " 'Sentinelruled': 263,\n",
              " 'September': 766,\n",
              " 'Set': 87,\n",
              " 'Silke': 29,\n",
              " 'Silver': 353,\n",
              " 'Skull': 779,\n",
              " 'Soviet': 38,\n",
              " 'Squad': 26,\n",
              " 'Stack': 194,\n",
              " 'StarLord': 232,\n",
              " 'Stark': 555,\n",
              " 'Steve': 703,\n",
              " 'SubMariner': 654,\n",
              " 'SuperSkrull': 305,\n",
              " 'Superior': 146,\n",
              " 'Surfer': 737,\n",
              " 'Swan': 238,\n",
              " 'Swans': 691,\n",
              " 'Terry': 389,\n",
              " 'Thanos': 620,\n",
              " 'The': 566,\n",
              " 'Theyve': 436,\n",
              " 'This': 91,\n",
              " 'Thor': 401,\n",
              " 'Thunder': 248,\n",
              " 'Tony': 222,\n",
              " 'Transformed': 631,\n",
              " 'Trey': 90,\n",
              " 'Ultimate': 567,\n",
              " 'Ultron': 140,\n",
              " 'Universe': 407,\n",
              " 'VS': 449,\n",
              " 'Valkyrie': 547,\n",
              " 'Van': 82,\n",
              " 'Vengeance': 220,\n",
              " 'War': 145,\n",
              " 'Warlock': 197,\n",
              " 'Wars': 405,\n",
              " 'Watch': 234,\n",
              " 'What': 470,\n",
              " 'When': 297,\n",
              " 'Will': 755,\n",
              " 'Wilson': 475,\n",
              " 'Winds': 782,\n",
              " 'Witch': 257,\n",
              " 'With': 280,\n",
              " 'Without': 51,\n",
              " 'World': 308,\n",
              " 'Worlds': 517,\n",
              " 'Wraith': 340,\n",
              " 'Writer': 379,\n",
              " 'Writers': 805,\n",
              " 'X': 498,\n",
              " 'XMen': 399,\n",
              " 'Xavier': 450,\n",
              " 'Xaviers': 531,\n",
              " 'York': 571,\n",
              " 'Yu': 485,\n",
              " 'Yugoslavian': 790,\n",
              " 'Zero': 465,\n",
              " 'a': 725,\n",
              " 'about': 287,\n",
              " 'absolve': 723,\n",
              " 'across': 563,\n",
              " 'action': 662,\n",
              " 'adult': 494,\n",
              " 'adventures': 208,\n",
              " 'after': 369,\n",
              " 'against': 20,\n",
              " 'agent': 767,\n",
              " 'all': 277,\n",
              " 'alldifferent': 655,\n",
              " 'allnew': 334,\n",
              " 'allowed': 189,\n",
              " 'allpowerful': 788,\n",
              " 'alltime': 304,\n",
              " 'along': 266,\n",
              " 'alongside': 53,\n",
              " 'already': 160,\n",
              " 'altering': 171,\n",
              " 'an': 658,\n",
              " 'and': 712,\n",
              " 'anthology': 150,\n",
              " 'antihuman': 417,\n",
              " 'any': 706,\n",
              " 'anything': 58,\n",
              " 'apparent': 361,\n",
              " 'appea': 415,\n",
              " 'appearances': 218,\n",
              " 'apprehend': 716,\n",
              " 'argument': 508,\n",
              " 'armored': 181,\n",
              " 'arms': 451,\n",
              " 'around': 679,\n",
              " 'arrives': 593,\n",
              " 'art': 335,\n",
              " 'artificially': 666,\n",
              " 'artist': 1,\n",
              " 'as': 802,\n",
              " 'assassin': 332,\n",
              " 'assassination': 719,\n",
              " 'assimilated': 463,\n",
              " 'assimilating': 388,\n",
              " 'at': 202,\n",
              " 'atmosphere': 671,\n",
              " 'attack': 28,\n",
              " 'attempt': 121,\n",
              " 'attempts': 281,\n",
              " 'awakens': 132,\n",
              " 'away': 162,\n",
              " 'back': 233,\n",
              " 'ball': 446,\n",
              " 'battle': 711,\n",
              " 'be': 569,\n",
              " 'beat': 170,\n",
              " 'become': 641,\n",
              " 'becomes': 75,\n",
              " 'been': 632,\n",
              " 'before': 68,\n",
              " 'begin': 726,\n",
              " 'bent': 393,\n",
              " 'best': 264,\n",
              " 'betrays': 215,\n",
              " 'between': 774,\n",
              " 'biggest': 65,\n",
              " 'blockbuster': 677,\n",
              " 'blue': 511,\n",
              " 'board': 721,\n",
              " 'born': 346,\n",
              " 'bowling': 458,\n",
              " 'bring': 144,\n",
              " 'bringing': 616,\n",
              " 'brings': 575,\n",
              " 'brink': 507,\n",
              " 'brother': 409,\n",
              " 'bud': 729,\n",
              " 'but': 207,\n",
              " 'by': 434,\n",
              " 'call': 747,\n",
              " 'called': 14,\n",
              " 'came': 427,\n",
              " 'campaign': 242,\n",
              " 'can': 761,\n",
              " 'capable': 7,\n",
              " 'carries': 541,\n",
              " 'casts': 742,\n",
              " 'celebrated': 578,\n",
              " 'change': 545,\n",
              " 'changes': 522,\n",
              " 'characters': 454,\n",
              " 'classic': 96,\n",
              " 'climatic': 103,\n",
              " 'close': 387,\n",
              " 'cocoon': 260,\n",
              " 'coexistence': 5,\n",
              " 'collection': 635,\n",
              " 'college': 420,\n",
              " 'come': 296,\n",
              " 'comicbook': 497,\n",
              " 'commences': 364,\n",
              " 'complete': 697,\n",
              " 'complex': 382,\n",
              " 'connected': 702,\n",
              " 'conquest': 667,\n",
              " 'containing': 161,\n",
              " 'contract': 288,\n",
              " 'control': 689,\n",
              " 'convincing': 445,\n",
              " 'cop': 618,\n",
              " 'cost': 784,\n",
              " 'could': 756,\n",
              " 'create': 696,\n",
              " 'created': 391,\n",
              " 'creating': 806,\n",
              " 'creators': 81,\n",
              " 'credit': 67,\n",
              " 'crime': 199,\n",
              " 'curls': 622,\n",
              " 'daughter': 115,\n",
              " 'day': 807,\n",
              " 'dead': 630,\n",
              " 'deadly': 505,\n",
              " 'deaf': 605,\n",
              " 'death': 513,\n",
              " 'decides': 587,\n",
              " 'declares': 500,\n",
              " 'defeating': 682,\n",
              " 'destroy': 164,\n",
              " 'destroying': 318,\n",
              " 'destruction': 543,\n",
              " 'detailing': 97,\n",
              " 'deviations': 322,\n",
              " 'died': 444,\n",
              " 'difficult': 754,\n",
              " 'dirty': 41,\n",
              " 'discovers': 351,\n",
              " 'dividedwith': 381,\n",
              " 'do': 44,\n",
              " 'dose': 439,\n",
              " 'doublesize': 173,\n",
              " 'downonhisluck': 675,\n",
              " 'dream': 736,\n",
              " 'drug': 428,\n",
              " 'drums': 36,\n",
              " 'during': 333,\n",
              " 'duty': 34,\n",
              " 'each': 135,\n",
              " 'early': 268,\n",
              " 'else': 270,\n",
              " 'embarks': 548,\n",
              " 'emerged': 11,\n",
              " 'end': 110,\n",
              " 'enemies': 720,\n",
              " 'energy': 229,\n",
              " 'era': 509,\n",
              " 'escalated': 378,\n",
              " 'eternal': 583,\n",
              " 'event': 611,\n",
              " 'events': 312,\n",
              " 'ever': 354,\n",
              " 'everything': 183,\n",
              " 'evil': 516,\n",
              " 'exact': 576,\n",
              " 'existence': 40,\n",
              " 'explores': 273,\n",
              " 'explosion': 503,\n",
              " 'exposing': 307,\n",
              " 'extreme': 599,\n",
              " 'faced': 560,\n",
              " 'faces': 244,\n",
              " 'fact': 365,\n",
              " 'fall': 237,\n",
              " 'fallen': 692,\n",
              " 'falsely': 787,\n",
              " 'family': 676,\n",
              " 'father': 430,\n",
              " 'fathers': 63,\n",
              " 'features': 56,\n",
              " 'female': 321,\n",
              " 'fight': 347,\n",
              " 'fighting': 760,\n",
              " 'fights': 309,\n",
              " 'final': 45,\n",
              " 'find': 627,\n",
              " 'finds': 534,\n",
              " 'firefighters': 4,\n",
              " 'first': 626,\n",
              " 'fix': 527,\n",
              " 'foe': 337,\n",
              " 'foes': 519,\n",
              " 'for': 683,\n",
              " 'forces': 456,\n",
              " 'formative': 342,\n",
              " 'former': 546,\n",
              " 'formerly': 384,\n",
              " 'founding': 363,\n",
              " 'friend': 580,\n",
              " 'friendhes': 794,\n",
              " 'from': 320,\n",
              " 'future': 764,\n",
              " 'gained': 441,\n",
              " 'gamma': 431,\n",
              " 'gang': 821,\n",
              " 'gathers': 820,\n",
              " 'giant': 52,\n",
              " 'girl': 803,\n",
              " 'globe': 205,\n",
              " 'god': 759,\n",
              " 'government': 535,\n",
              " 'greatest': 92,\n",
              " 'grips': 23,\n",
              " 'gritty': 196,\n",
              " 'group': 629,\n",
              " 'guarded': 687,\n",
              " 'guilt': 46,\n",
              " 'handed': 771,\n",
              " 'hands': 291,\n",
              " 'happen': 180,\n",
              " 'has': 73,\n",
              " 'have': 25,\n",
              " 'he': 481,\n",
              " 'heart': 331,\n",
              " 'her': 396,\n",
              " 'hero': 383,\n",
              " 'heroes': 33,\n",
              " 'heros': 652,\n",
              " 'hes': 152,\n",
              " 'him': 561,\n",
              " 'himself': 590,\n",
              " 'his': 284,\n",
              " 'historic': 128,\n",
              " 'hope': 483,\n",
              " 'horrific': 247,\n",
              " 'houndmaster': 550,\n",
              " 'how': 13,\n",
              " 'however': 670,\n",
              " 'human': 613,\n",
              " 'humans': 518,\n",
              " 'identity': 642,\n",
              " 'if': 124,\n",
              " 'image': 447,\n",
              " 'in': 203,\n",
              " 'inaccuracies': 694,\n",
              " 'inadvertently': 188,\n",
              " 'included': 106,\n",
              " 'including': 558,\n",
              " 'incredible': 421,\n",
              " 'individuals': 432,\n",
              " 'innocent': 733,\n",
              " 'into': 776,\n",
              " 'is': 2,\n",
              " 'issue': 176,\n",
              " 'it': 352,\n",
              " 'job': 540,\n",
              " 'join': 366,\n",
              " 'just': 775,\n",
              " 'kicks': 789,\n",
              " 'kill': 758,\n",
              " 'killer': 646,\n",
              " 'killing': 84,\n",
              " 'knew': 30,\n",
              " 'known': 214,\n",
              " 'latest': 100,\n",
              " 'law': 16,\n",
              " 'lead': 727,\n",
              " 'leader': 294,\n",
              " 'leading': 492,\n",
              " 'learns': 751,\n",
              " 'less': 750,\n",
              " 'level': 648,\n",
              " 'life': 373,\n",
              " 'like': 395,\n",
              " 'lives': 149,\n",
              " 'long': 19,\n",
              " 'longtime': 673,\n",
              " 'looking': 271,\n",
              " 'lover': 285,\n",
              " 'machinations': 763,\n",
              " 'mad': 437,\n",
              " 'made': 101,\n",
              " 'madness': 209,\n",
              " 'major': 484,\n",
              " 'means': 610,\n",
              " 'mildmannered': 416,\n",
              " 'mindaltering': 624,\n",
              " 'mirror': 796,\n",
              " 'mission': 136,\n",
              " 'moments': 636,\n",
              " 'moody': 358,\n",
              " 'more': 169,\n",
              " 'most': 657,\n",
              " 'murder': 49,\n",
              " 'must': 435,\n",
              " 'mutant': 50,\n",
              " 'mutants': 757,\n",
              " 'mysterious': 94,\n",
              " 'nave': 592,\n",
              " 'necessary': 573,\n",
              " 'never': 745,\n",
              " 'new': 139,\n",
              " 'newspaper': 469,\n",
              " 'nightmares': 606,\n",
              " 'nineissue': 615,\n",
              " 'no': 640,\n",
              " 'normally': 86,\n",
              " 'not': 240,\n",
              " 'nothing': 422,\n",
              " 'now': 372,\n",
              " 'nuclear': 163,\n",
              " 'of': 37,\n",
              " 'off': 192,\n",
              " 'offers': 217,\n",
              " 'officers': 402,\n",
              " 'on': 299,\n",
              " 'one': 362,\n",
              " 'only': 62,\n",
              " 'opposed': 739,\n",
              " 'opposing': 603,\n",
              " 'opposite': 553,\n",
              " 'or': 459,\n",
              " 'order': 210,\n",
              " 'organization': 155,\n",
              " 'origin': 245,\n",
              " 'other': 32,\n",
              " 'others': 559,\n",
              " 'our': 512,\n",
              " 'out': 663,\n",
              " 'over': 24,\n",
              " 'own': 584,\n",
              " 'part': 801,\n",
              " 'partner': 557,\n",
              " 'peaceful': 313,\n",
              " 'perceived': 123,\n",
              " 'pit': 792,\n",
              " 'pitting': 730,\n",
              " 'place': 166,\n",
              " 'plagued': 359,\n",
              " 'plan': 647,\n",
              " 'planet': 78,\n",
              " 'plunge': 698,\n",
              " 'poised': 283,\n",
              " 'police': 705,\n",
              " 'power': 324,\n",
              " 'powerful': 639,\n",
              " 'powers': 167,\n",
              " 'predict': 258,\n",
              " 'premonitions': 27,\n",
              " 'prepare': 137,\n",
              " 'presents': 315,\n",
              " 'prevent': 348,\n",
              " 'previous': 412,\n",
              " 'program': 241,\n",
              " 'protect': 375,\n",
              " 'proves': 224,\n",
              " 'pull': 672,\n",
              " 'pushed': 479,\n",
              " 'quest': 811,\n",
              " 'questions': 813,\n",
              " 'radiation': 148,\n",
              " 'rag': 668,\n",
              " 'raises': 114,\n",
              " 'reacquire': 357,\n",
              " 'readers': 645,\n",
              " 'reality': 781,\n",
              " 'reborn': 172,\n",
              " 'receiving': 783,\n",
              " 'recurring': 495,\n",
              " 'register': 57,\n",
              " 'reigns': 521,\n",
              " 'relationship': 142,\n",
              " 'remaking': 786,\n",
              " 'repair': 343,\n",
              " 'reshaping': 118,\n",
              " 'result': 625,\n",
              " 'resurrect': 85,\n",
              " 'returns': 457,\n",
              " 'revenge': 413,\n",
              " 'rise': 111,\n",
              " 'rises': 568,\n",
              " 'risked': 749,\n",
              " 'robot': 688,\n",
              " 'run': 562,\n",
              " 'sacrifices': 319,\n",
              " 'save': 39,\n",
              " 'scientific': 710,\n",
              " 'scientist': 12,\n",
              " 'second': 810,\n",
              " 'secret': 31,\n",
              " 'seeds': 623,\n",
              " 'seeks': 594,\n",
              " 'seen': 423,\n",
              " 'selflessly': 577,\n",
              " 'selling': 596,\n",
              " 'sentiments': 153,\n",
              " 'series': 253,\n",
              " 'set': 467,\n",
              " 'sets': 650,\n",
              " 'several': 653,\n",
              " 'sh': 69,\n",
              " 'she': 377,\n",
              " 'should': 43,\n",
              " 'side': 822,\n",
              " 'sides': 554,\n",
              " 'sight': 35,\n",
              " 'sights': 452,\n",
              " 'similar': 695,\n",
              " 'since': 127,\n",
              " 'sixissue': 290,\n",
              " 'skin': 674,\n",
              " 'so': 325,\n",
              " 'sold': 493,\n",
              " 'some': 129,\n",
              " 'somehow': 604,\n",
              " 'someone': 746,\n",
              " 'son': 206,\n",
              " 'space': 397,\n",
              " 'spied': 54,\n",
              " 'split': 506,\n",
              " 'spurs': 259,\n",
              " 'spy': 326,\n",
              " 'stand': 410,\n",
              " 'stands': 138,\n",
              " 'stealing': 678,\n",
              " 'stolen': 282,\n",
              " 'stop': 122,\n",
              " 'stories': 777,\n",
              " 'story': 638,\n",
              " 'strange': 370,\n",
              " 'streetlevel': 743,\n",
              " 'strength': 133,\n",
              " 'stres': 112,\n",
              " 'strong': 628,\n",
              " 'student': 731,\n",
              " 'style': 295,\n",
              " 'submerged': 809,\n",
              " 'successful': 549,\n",
              " 'suddenly': 649,\n",
              " 'super': 526,\n",
              " 'supervillains': 158,\n",
              " 'survive': 211,\n",
              " 'surviving': 612,\n",
              " 't': 690,\n",
              " 'tabloid': 643,\n",
              " 'tag': 272,\n",
              " 'take': 143,\n",
              " 'taken': 815,\n",
              " 'takes': 223,\n",
              " 'taking': 791,\n",
              " 'tale': 105,\n",
              " 'tampering': 514,\n",
              " 'targets': 482,\n",
              " 'team': 595,\n",
              " 'teammate': 300,\n",
              " 'teammates': 213,\n",
              " 'teamup': 66,\n",
              " 'teamâincluding': 619,\n",
              " 'tech': 659,\n",
              " 'teenage': 184,\n",
              " 'terrible': 793,\n",
              " 'terrorist': 707,\n",
              " 'th': 477,\n",
              " 'than': 120,\n",
              " 'that': 411,\n",
              " 'the': 523,\n",
              " 'their': 785,\n",
              " 'them': 392,\n",
              " 'thereby': 3,\n",
              " 'they': 680,\n",
              " 'theyve': 814,\n",
              " 'thick': 651,\n",
              " 'this': 216,\n",
              " 'those': 131,\n",
              " 'thoughtprovoking': 10,\n",
              " 'threat': 525,\n",
              " 'threeway': 693,\n",
              " 'through': 267,\n",
              " 'time': 64,\n",
              " 'timeline': 376,\n",
              " 'to': 466,\n",
              " 'top': 289,\n",
              " 'trades': 617,\n",
              " 'tragedy': 537,\n",
              " 'tragic': 468,\n",
              " 'transformed': 221,\n",
              " 'travels': 753,\n",
              " 'triggers': 77,\n",
              " 'trio': 607,\n",
              " 'turf': 510,\n",
              " 'turns': 83,\n",
              " 'twisted': 385,\n",
              " 'two': 564,\n",
              " 'ultimately': 770,\n",
              " 'under': 478,\n",
              " 'undergo': 72,\n",
              " 'unique': 491,\n",
              " 'univesal': 700,\n",
              " 'unprecedented': 327,\n",
              " 'unworthy': 741,\n",
              " 'up': 141,\n",
              " 'uphold': 310,\n",
              " 'us': 71,\n",
              " 'uses': 686,\n",
              " 'version': 356,\n",
              " 'villain': 800,\n",
              " 'villains': 390,\n",
              " 'visionary': 398,\n",
              " 'volume': 21,\n",
              " 'wake': 797,\n",
              " 'wallcrawler': 418,\n",
              " 'war': 438,\n",
              " 'was': 769,\n",
              " 'watched': 614,\n",
              " 'way': 60,\n",
              " 'were': 109,\n",
              " 'what': 772,\n",
              " 'whatever': 414,\n",
              " 'when': 275,\n",
              " 'where': 212,\n",
              " 'whether': 714,\n",
              " 'which': 344,\n",
              " 'who': 159,\n",
              " 'will': 204,\n",
              " 'wipe': 722,\n",
              " 'with': 574,\n",
              " 'witness': 228,\n",
              " 'workers': 582,\n",
              " 'working': 55,\n",
              " 'world': 292,\n",
              " 'worldclass': 303,\n",
              " 'worldfamous': 735,\n",
              " 'writerartist': 685,\n",
              " 'written': 551,\n",
              " 'year': 602,\n",
              " 'years': 76,\n",
              " 'your': 147,\n",
              " 'Ñ': 476}"
            ]
          },
          "metadata": {
            "tags": []
          },
          "execution_count": 14
        }
      ]
    },
    {
      "cell_type": "code",
      "metadata": {
        "id": "XGcgLmmLq2-c",
        "colab": {
          "base_uri": "https://localhost:8080/"
        },
        "outputId": "96a675c1-de06-4fdd-9290-58b51c810a1b"
      },
      "source": [
        "# set vocabulary size\n",
        "vocab_size = len(int2token)\n",
        "vocab_size"
      ],
      "execution_count": null,
      "outputs": [
        {
          "output_type": "execute_result",
          "data": {
            "text/plain": [
              "826"
            ]
          },
          "metadata": {
            "tags": []
          },
          "execution_count": 15
        }
      ]
    },
    {
      "cell_type": "code",
      "metadata": {
        "id": "apLnbgwpq34K"
      },
      "source": [
        "def get_integer_seq(seq):\n",
        "  return [token2int[w] for w in seq.split()]\n",
        "\n",
        "# convert text sequences to integer sequences\n",
        "x_int = [get_integer_seq(i) for i in x]\n",
        "y_int = [get_integer_seq(i) for i in y]\n",
        "\n",
        "# convert lists to numpy arrays\n",
        "x_int = np.array(x_int)\n",
        "y_int = np.array(y_int)"
      ],
      "execution_count": null,
      "outputs": []
    },
    {
      "cell_type": "code",
      "metadata": {
        "id": "5TxLsV7Bq7Ie",
        "colab": {
          "base_uri": "https://localhost:8080/"
        },
        "outputId": "cd6774b5-660e-4466-a110-791454d7abb4"
      },
      "source": [
        "x_int[0]"
      ],
      "execution_count": null,
      "outputs": [
        {
          "output_type": "execute_result",
          "data": {
            "text/plain": [
              "array([328, 523,  49,  37])"
            ]
          },
          "metadata": {
            "tags": []
          },
          "execution_count": 17
        }
      ]
    },
    {
      "cell_type": "code",
      "metadata": {
        "id": "3fk8sh7Cq9dS"
      },
      "source": [
        "def get_batches(arr_x, arr_y, batch_size):\n",
        "  prev = 0\n",
        "  for n in range(batch_size, arr_x.shape[0], batch_size):\n",
        "    x = arr_x[prev:n]\n",
        "    y = arr_y[prev:n]\n",
        "    prev = n\n",
        "    yield x,y"
      ],
      "execution_count": null,
      "outputs": []
    },
    {
      "cell_type": "code",
      "metadata": {
        "id": "56HZOPbNq_x7",
        "colab": {
          "base_uri": "https://localhost:8080/"
        },
        "outputId": "bc04d80e-bebc-4d88-f070-210df73c415f"
      },
      "source": [
        "# Get random words for word bank\n",
        "random_tokens = random.sample(list(token2int), 30)\n",
        "random_tokens"
      ],
      "execution_count": null,
      "outputs": [
        {
          "output_type": "execute_result",
          "data": {
            "text/plain": [
              "['be',\n",
              " 'This',\n",
              " 'a',\n",
              " 'Investigating',\n",
              " 'Kubert',\n",
              " 'working',\n",
              " 'were',\n",
              " 'death',\n",
              " 'was',\n",
              " 'Black',\n",
              " 'murder',\n",
              " 'Ronan',\n",
              " 'Theyve',\n",
              " 'remaking',\n",
              " 'Blood',\n",
              " 'ABombs',\n",
              " 'series',\n",
              " 'for',\n",
              " 'control',\n",
              " 'bowling',\n",
              " 'Herc',\n",
              " 'nightmares',\n",
              " 'close',\n",
              " 'Secret',\n",
              " 'rag',\n",
              " 'Transformed',\n",
              " 'can',\n",
              " 'Hercules',\n",
              " 'order',\n",
              " 'argument']"
            ]
          },
          "metadata": {
            "tags": []
          },
          "execution_count": 19
        }
      ]
    },
    {
      "cell_type": "code",
      "metadata": {
        "id": "A7y2Q443VURm"
      },
      "source": [
        "class WordLSTM(nn.Module):\n",
        "    \n",
        "    def __init__(self, n_hidden=256, n_layers=4, drop_prob=0.3, lr=0.001):\n",
        "        super().__init__()\n",
        "\n",
        "        self.drop_prob = drop_prob\n",
        "        self.n_layers = n_layers\n",
        "        self.n_hidden = n_hidden\n",
        "        self.lr = lr\n",
        "        \n",
        "        self.emb_layer = nn.Embedding(vocab_size, 200)\n",
        "\n",
        "        ## define the LSTM\n",
        "        self.lstm = nn.LSTM(200, n_hidden, n_layers, \n",
        "                            dropout=drop_prob, batch_first=True)\n",
        "        \n",
        "        ## define a dropout layer\n",
        "        self.dropout = nn.Dropout(drop_prob)\n",
        "        \n",
        "        ## define the fully-connected layer\n",
        "        self.fc = nn.Linear(n_hidden, vocab_size)      \n",
        "    \n",
        "    def forward(self, x, hidden):\n",
        "        ''' Forward pass through the network. \n",
        "            These inputs are x, and the hidden/cell state `hidden`. '''\n",
        "\n",
        "        ## pass input through embedding layer\n",
        "        embedded = self.emb_layer(x)     \n",
        "        \n",
        "        ## Get the outputs and the new hidden state from the lstm\n",
        "        lstm_output, hidden = self.lstm(embedded, hidden)\n",
        "        \n",
        "        ## pass through a dropout layer\n",
        "        out = self.dropout(lstm_output)\n",
        "        \n",
        "        #out = out.contiguous().view(-1, self.n_hidden) \n",
        "        out = out.reshape(-1, self.n_hidden) \n",
        "\n",
        "        ## put \"out\" through the fully-connected layer\n",
        "        out = self.fc(out)\n",
        "\n",
        "        # return the final output and the hidden state\n",
        "        return out, hidden\n",
        "    \n",
        "    \n",
        "    def init_hidden(self, batch_size):\n",
        "        ''' initializes hidden state '''\n",
        "        # Create two new tensors with sizes n_layers x batch_size x n_hidden,\n",
        "        # initialized to zero, for hidden state and cell state of LSTM\n",
        "        weight = next(self.parameters()).data\n",
        "\n",
        "        # if GPU is available\n",
        "        if (torch.cuda.is_available()):\n",
        "          hidden = (weight.new(self.n_layers, batch_size, self.n_hidden).zero_().cuda(),\n",
        "                    weight.new(self.n_layers, batch_size, self.n_hidden).zero_().cuda())\n",
        "        \n",
        "        # if GPU is not available\n",
        "        else:\n",
        "          hidden = (weight.new(self.n_layers, batch_size, self.n_hidden).zero_(),\n",
        "                    weight.new(self.n_layers, batch_size, self.n_hidden).zero_())\n",
        "        \n",
        "        return hidden"
      ],
      "execution_count": null,
      "outputs": []
    },
    {
      "cell_type": "code",
      "metadata": {
        "id": "JYeJzhnbrLor",
        "colab": {
          "base_uri": "https://localhost:8080/"
        },
        "outputId": "4849ae6e-cb9d-4555-d16a-3eeec983b12f"
      },
      "source": [
        "# instantiate the model\n",
        "net = WordLSTM()\n",
        "\n",
        "# push the model to GPU (avoid it if you are not using the GPU)\n",
        "net.cuda()\n",
        "\n",
        "print(net)"
      ],
      "execution_count": null,
      "outputs": [
        {
          "output_type": "stream",
          "text": [
            "WordLSTM(\n",
            "  (emb_layer): Embedding(826, 200)\n",
            "  (lstm): LSTM(200, 256, num_layers=4, batch_first=True, dropout=0.3)\n",
            "  (dropout): Dropout(p=0.3, inplace=False)\n",
            "  (fc): Linear(in_features=256, out_features=826, bias=True)\n",
            ")\n"
          ],
          "name": "stdout"
        }
      ]
    },
    {
      "cell_type": "code",
      "metadata": {
        "id": "w-rhnkylrPzH",
        "colab": {
          "base_uri": "https://localhost:8080/"
        },
        "outputId": "d77ae104-4bb1-4135-a6cf-e6825cd32b4c"
      },
      "source": [
        "# Initialize optimizer\n",
        "optimizer = torch.optim.SGD(net.parameters(), lr=0.001, momentum=0.9)\n",
        "\n",
        "# Print model's state_dict\n",
        "print(\"Model's state_dict:\")\n",
        "for param_tensor in net.state_dict():\n",
        "    print(param_tensor, \"\\t\", net.state_dict()[param_tensor].size())\n",
        "\n",
        "# Print optimizer's state_dict\n",
        "print(\"Optimizer's state_dict:\")\n",
        "for var_name in optimizer.state_dict():\n",
        "    print(var_name, \"\\t\", optimizer.state_dict()[var_name])"
      ],
      "execution_count": null,
      "outputs": [
        {
          "output_type": "stream",
          "text": [
            "Model's state_dict:\n",
            "emb_layer.weight \t torch.Size([826, 200])\n",
            "lstm.weight_ih_l0 \t torch.Size([1024, 200])\n",
            "lstm.weight_hh_l0 \t torch.Size([1024, 256])\n",
            "lstm.bias_ih_l0 \t torch.Size([1024])\n",
            "lstm.bias_hh_l0 \t torch.Size([1024])\n",
            "lstm.weight_ih_l1 \t torch.Size([1024, 256])\n",
            "lstm.weight_hh_l1 \t torch.Size([1024, 256])\n",
            "lstm.bias_ih_l1 \t torch.Size([1024])\n",
            "lstm.bias_hh_l1 \t torch.Size([1024])\n",
            "lstm.weight_ih_l2 \t torch.Size([1024, 256])\n",
            "lstm.weight_hh_l2 \t torch.Size([1024, 256])\n",
            "lstm.bias_ih_l2 \t torch.Size([1024])\n",
            "lstm.bias_hh_l2 \t torch.Size([1024])\n",
            "lstm.weight_ih_l3 \t torch.Size([1024, 256])\n",
            "lstm.weight_hh_l3 \t torch.Size([1024, 256])\n",
            "lstm.bias_ih_l3 \t torch.Size([1024])\n",
            "lstm.bias_hh_l3 \t torch.Size([1024])\n",
            "fc.weight \t torch.Size([826, 256])\n",
            "fc.bias \t torch.Size([826])\n",
            "Optimizer's state_dict:\n",
            "state \t {}\n",
            "param_groups \t [{'lr': 0.001, 'momentum': 0.9, 'dampening': 0, 'weight_decay': 0, 'nesterov': False, 'params': [0, 1, 2, 3, 4, 5, 6, 7, 8, 9, 10, 11, 12, 13, 14, 15, 16, 17, 18]}]\n"
          ],
          "name": "stdout"
        }
      ]
    },
    {
      "cell_type": "code",
      "metadata": {
        "id": "zaCylrZcVx7e"
      },
      "source": [
        "def train(net, epochs=10, batch_size=100, lr=0.001, clip=1, print_every=32):\n",
        "    \n",
        "    # optimizer\n",
        "    opt = torch.optim.Adam(net.parameters(), lr=lr)\n",
        "    \n",
        "    # loss\n",
        "    criterion = nn.CrossEntropyLoss()\n",
        "    \n",
        "    # push model to GPU\n",
        "    net.cuda()\n",
        "    \n",
        "    counter = 0\n",
        "\n",
        "    net.train()\n",
        "\n",
        "    for e in range(epochs):\n",
        "\n",
        "        # initialize hidden state\n",
        "        h = net.init_hidden(batch_size)\n",
        "        \n",
        "        for x, y in get_batches(x_int, y_int, batch_size):\n",
        "            counter+= 1\n",
        "            \n",
        "            # convert numpy arrays to PyTorch arrays\n",
        "            inputs, targets = torch.from_numpy(x), torch.from_numpy(y)\n",
        "            \n",
        "            # push tensors to GPU\n",
        "            inputs, targets = inputs.cuda(), targets.cuda()\n",
        "\n",
        "            # detach hidden states\n",
        "            h = tuple([each.data for each in h])\n",
        "\n",
        "            # zero accumulated gradients\n",
        "            net.zero_grad()\n",
        "            \n",
        "            # get the output from the model\n",
        "            output, h = net(inputs, h)\n",
        "            \n",
        "            # calculate the loss and perform backprop\n",
        "            loss = criterion(output, targets.view(-1))\n",
        "\n",
        "            # back-propagate error\n",
        "            loss.backward()\n",
        "\n",
        "            # `clip_grad_norm` helps prevent the exploding gradient problem in RNNs / LSTMs.\n",
        "            nn.utils.clip_grad_norm_(net.parameters(), clip)\n",
        "\n",
        "            # update weigths\n",
        "            opt.step()            \n",
        "            \n",
        "            if counter % print_every == 0:\n",
        "            \n",
        "              print(\"Epoch: {}/{}...\".format(e+1, epochs),\n",
        "                    \"Step: {}...\".format(counter))"
      ],
      "execution_count": null,
      "outputs": []
    },
    {
      "cell_type": "code",
      "metadata": {
        "id": "80xq6cBPrcMt",
        "colab": {
          "base_uri": "https://localhost:8080/"
        },
        "outputId": "332391e3-b6c3-4d35-fe17-6e554fc7b3d5"
      },
      "source": [
        "train(net, batch_size = 100, epochs=20, print_every=256)"
      ],
      "execution_count": null,
      "outputs": [
        {
          "output_type": "stream",
          "text": [
            "Epoch: 18/20... Step: 256...\n"
          ],
          "name": "stdout"
        }
      ]
    },
    {
      "cell_type": "code",
      "metadata": {
        "id": "Uemx7F_LlW7X"
      },
      "source": [
        "def predict(net, tkn, h=None):\n",
        "         \n",
        "  # tensor inputs\n",
        "  x = np.array([[token2int[tkn]]])\n",
        "  inputs = torch.from_numpy(x)\n",
        "  \n",
        "  # push to GPU\n",
        "  inputs = inputs.cuda()\n",
        "\n",
        "  # detach hidden state from history\n",
        "  h = tuple([each.data for each in h])\n",
        "\n",
        "  # get the output of the model\n",
        "  out, h = net(inputs, h)\n",
        "\n",
        "  # get the token probabilities\n",
        "  p = F.softmax(out, dim=1).data\n",
        "\n",
        "  p = p.cpu()\n",
        "\n",
        "  p = p.numpy()\n",
        "  p = p.reshape(p.shape[1],)\n",
        "\n",
        "  # get indices of top 3 values\n",
        "  top_n_idx = p.argsort()[-3:][::-1]\n",
        "\n",
        "  # randomly select one of the three indices\n",
        "  sampled_token_index = top_n_idx[random.sample([0,1,2],1)[0]]\n",
        "\n",
        "  # return the encoded value of the predicted char and the hidden state\n",
        "  return int2token[sampled_token_index], h\n",
        "\n"
      ],
      "execution_count": null,
      "outputs": []
    },
    {
      "cell_type": "code",
      "metadata": {
        "id": "AXb3odAVl5Jy"
      },
      "source": [
        "\n",
        "# function to generate text\n",
        "def sample(net, size, prime='The'):\n",
        "        \n",
        "    # push to GPU\n",
        "    net.cuda()\n",
        "    \n",
        "    net.eval()\n",
        "\n",
        "    # batch size is 1\n",
        "    h = net.init_hidden(1)\n",
        "\n",
        "    toks = prime.split()\n",
        "\n",
        "    # predict next token\n",
        "    for t in prime.split():\n",
        "      token, h = predict(net, t, h)\n",
        "    \n",
        "    toks.append(token)\n",
        "\n",
        "    # predict subsequent tokens\n",
        "    for i in range(size-1):\n",
        "        token, h = predict(net, toks[-1], h)\n",
        "        toks.append(token)\n",
        "\n",
        "    return ' '.join(toks)"
      ],
      "execution_count": null,
      "outputs": []
    },
    {
      "cell_type": "code",
      "metadata": {
        "id": "k2wd1zj0rsg6",
        "colab": {
          "base_uri": "https://localhost:8080/",
          "height": 35
        },
        "outputId": "8a7db3a2-3248-4344-84f3-6ceea64d1b5c"
      },
      "source": [
        "sample(net, 5)"
      ],
      "execution_count": null,
      "outputs": [
        {
          "output_type": "execute_result",
          "data": {
            "application/vnd.google.colaboratory.intrinsic+json": {
              "type": "string"
            },
            "text/plain": [
              "'the and the Captain A Stark'"
            ]
          },
          "metadata": {
            "tags": []
          },
          "execution_count": 27
        }
      ]
    },
    {
      "cell_type": "code",
      "metadata": {
        "id": "7AG8Oryn4m3E"
      },
      "source": [
        "import pickle\n",
        "# save the model to disk\n",
        "filename = 'Marvel_model.pickle'\n",
        "pickle.dump(net, open(filename, 'wb'))"
      ],
      "execution_count": null,
      "outputs": []
    },
    {
      "cell_type": "code",
      "metadata": {
        "id": "U-YnQg0wFlFk"
      },
      "source": [
        "# Specify a path\n",
        "PATH = \"Marvel_model.pt\"\n",
        "\n",
        "# Save\n",
        "torch.save(net, PATH)"
      ],
      "execution_count": null,
      "outputs": []
    },
    {
      "cell_type": "code",
      "metadata": {
        "id": "HMqfMENK99NG"
      },
      "source": [
        "# *** RANDOM WORDS ***"
      ],
      "execution_count": null,
      "outputs": []
    },
    {
      "cell_type": "code",
      "metadata": {
        "id": "jI2jHXO28lkp"
      },
      "source": [
        "# **** Option 1: Get random words for word bank without removing common English words ****\n",
        "random_tokens = random.sample(list(token2int), 50)\n",
        "random_tokens"
      ],
      "execution_count": null,
      "outputs": []
    },
    {
      "cell_type": "code",
      "metadata": {
        "id": "ir7ZbCrBhOXz"
      },
      "source": [
        "# *** Option2: Get random words from list of words that doesn't include most common English words ***"
      ],
      "execution_count": null,
      "outputs": []
    },
    {
      "cell_type": "code",
      "metadata": {
        "id": "nL31jlu8hJad"
      },
      "source": [
        "# ***** Remove common words from word bank *****"
      ],
      "execution_count": null,
      "outputs": []
    },
    {
      "cell_type": "code",
      "metadata": {
        "id": "qtYFe2DthIbE"
      },
      "source": [
        "# read pickle file - most common english words\n",
        "pickle_in = open(\"common_words.pkl\",\"rb\")\n",
        "common_words = pickle.load(pickle_in)\n",
        "\n",
        "# count of movie plot summaries\n",
        "len(common_words)"
      ],
      "execution_count": null,
      "outputs": []
    },
    {
      "cell_type": "code",
      "metadata": {
        "id": "BoXLzHYlhY7g"
      },
      "source": [
        "new_movie_list2 = [i for i in token2int if i not in common_words]"
      ],
      "execution_count": null,
      "outputs": []
    },
    {
      "cell_type": "code",
      "metadata": {
        "id": "Eo-kjex6hZwK"
      },
      "source": [
        "# Get random words for word bank\n",
        "random_tokens2 = random.sample(list(new_movie_list2), 50)\n",
        "random_tokens2"
      ],
      "execution_count": null,
      "outputs": []
    }
  ]
}